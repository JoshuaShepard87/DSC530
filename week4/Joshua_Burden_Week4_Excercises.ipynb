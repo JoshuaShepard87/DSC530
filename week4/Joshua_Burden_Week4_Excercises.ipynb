{
 "cells": [
  {
   "cell_type": "markdown",
   "id": "cea0c3e7",
   "metadata": {},
   "source": [
    "# Week 4 Excercises\n",
    "Joshua Burden  \n",
    "DSC530 Week 4  \n",
    "Bellevue University  \n",
    "Catherine Williams  \n",
    "06/26/2022\n",
    "\n",
    "Examples and Exercises from Think Stats, 2nd Edition\n",
    "\n",
    "http://thinkstats2.com\n",
    "\n",
    "Copyright 2016 Allen B. Downey\n",
    "\n",
    "MIT License: https://opensource.org/licenses/MIT"
   ]
  },
  {
   "cell_type": "code",
   "execution_count": 1,
   "id": "024f307a",
   "metadata": {},
   "outputs": [
    {
     "name": "stdout",
     "output_type": "stream",
     "text": [
      "Downloaded thinkstats2.py\n",
      "Downloaded thinkplot.py\n",
      "Downloaded nsfg.py\n",
      "Downloaded first.py\n",
      "Downloaded 2002FemPreg.dct\n",
      "Downloaded 2002FemPreg.dat.gz\n"
     ]
    }
   ],
   "source": [
    "from os.path import basename, exists\n",
    "\n",
    "\n",
    "def download(url):\n",
    "    filename = basename(url)\n",
    "    if not exists(filename):\n",
    "        from urllib.request import urlretrieve\n",
    "\n",
    "        local, _ = urlretrieve(url, filename)\n",
    "        print(\"Downloaded \" + local)\n",
    "\n",
    "\n",
    "download(\"https://github.com/AllenDowney/ThinkStats2/raw/master/code/thinkstats2.py\")\n",
    "download(\"https://github.com/AllenDowney/ThinkStats2/raw/master/code/thinkplot.py\")\n",
    "download(\"https://github.com/AllenDowney/ThinkStats2/raw/master/code/nsfg.py\")\n",
    "download(\"https://github.com/AllenDowney/ThinkStats2/raw/master/code/first.py\")\n",
    "\n",
    "\n",
    "download(\"https://github.com/AllenDowney/ThinkStats2/raw/master/code/2002FemPreg.dct\")\n",
    "download(\n",
    "    \"https://github.com/AllenDowney/ThinkStats2/raw/master/code/2002FemPreg.dat.gz\"\n",
    ")"
   ]
  },
  {
   "cell_type": "code",
   "execution_count": 14,
   "id": "8540f0bb",
   "metadata": {},
   "outputs": [],
   "source": [
    "import numpy as np\n",
    "import nsfg \n",
    "import first\n",
    "import thinkstats2\n",
    "import thinkplot\n",
    "from empyrical_dist import Pmf"
   ]
  },
  {
   "cell_type": "code",
   "execution_count": 3,
   "id": "9e058f45",
   "metadata": {},
   "outputs": [],
   "source": [
    "preg = nsfg.ReadFemPreg()\n",
    "live = preg[preg.outcome == 1]"
   ]
  },
  {
   "cell_type": "markdown",
   "id": "351b7d90",
   "metadata": {},
   "source": [
    "# Exercise 3.1: \n",
    "Something like the class size paradox appears if you survey children and ask how many children are in their family. Families with many children are more likely to appear in your sample, and families with no children have no chance to be in the sample.\n",
    "\n",
    "Use the NSFG respondent variable numkdhh to construct the actual distribution for the number of children under 18 in the respondents' households.\n",
    "\n",
    "Now compute the biased distribution we would see if we surveyed the children and asked them how many children under 18 (including themselves) are in their household.\n",
    "\n",
    "Plot the actual and biased distributions, and compute their means."
   ]
  },
  {
   "cell_type": "code",
   "execution_count": 6,
   "id": "bdc7ff7a",
   "metadata": {},
   "outputs": [
    {
     "name": "stdout",
     "output_type": "stream",
     "text": [
      "Downloaded 2002FemResp.dct\n",
      "Downloaded 2002FemResp.dat.gz\n"
     ]
    }
   ],
   "source": [
    "download(\"https://github.com/AllenDowney/ThinkStats2/raw/master/code/2002FemResp.dct\")\n",
    "download(\"https://github.com/AllenDowney/ThinkStats2/raw/master/code/2002FemResp.dat.gz\")"
   ]
  },
  {
   "cell_type": "code",
   "execution_count": 19,
   "id": "e39a155f",
   "metadata": {},
   "outputs": [
    {
     "data": {
      "text/html": [
       "<div>\n",
       "<style scoped>\n",
       "    .dataframe tbody tr th:only-of-type {\n",
       "        vertical-align: middle;\n",
       "    }\n",
       "\n",
       "    .dataframe tbody tr th {\n",
       "        vertical-align: top;\n",
       "    }\n",
       "\n",
       "    .dataframe thead th {\n",
       "        text-align: right;\n",
       "    }\n",
       "</style>\n",
       "<table border=\"1\" class=\"dataframe\">\n",
       "  <thead>\n",
       "    <tr style=\"text-align: right;\">\n",
       "      <th></th>\n",
       "      <th>probs</th>\n",
       "    </tr>\n",
       "  </thead>\n",
       "  <tbody>\n",
       "    <tr>\n",
       "      <th>0</th>\n",
       "      <td>0.466178</td>\n",
       "    </tr>\n",
       "    <tr>\n",
       "      <th>1</th>\n",
       "      <td>0.214052</td>\n",
       "    </tr>\n",
       "    <tr>\n",
       "      <th>2</th>\n",
       "      <td>0.196258</td>\n",
       "    </tr>\n",
       "    <tr>\n",
       "      <th>3</th>\n",
       "      <td>0.087139</td>\n",
       "    </tr>\n",
       "    <tr>\n",
       "      <th>4</th>\n",
       "      <td>0.025644</td>\n",
       "    </tr>\n",
       "    <tr>\n",
       "      <th>5</th>\n",
       "      <td>0.010729</td>\n",
       "    </tr>\n",
       "  </tbody>\n",
       "</table>\n",
       "</div>"
      ],
      "text/plain": [
       "0    0.466178\n",
       "1    0.214052\n",
       "2    0.196258\n",
       "3    0.087139\n",
       "4    0.025644\n",
       "5    0.010729\n",
       "Name: numkdhh, dtype: float64"
      ]
     },
     "execution_count": 19,
     "metadata": {},
     "output_type": "execute_result"
    }
   ],
   "source": [
    "resp = nsfg.ReadFemResp()\n",
    "\n",
    "# select the numkdhh col for pmf\n",
    "pmf = Pmf.from_seq(resp.numkdhh)\n",
    "pmf"
   ]
  },
  {
   "cell_type": "code",
   "execution_count": 20,
   "id": "f89ee98c",
   "metadata": {},
   "outputs": [],
   "source": [
    "pmf = thinkstats2.Pmf(resp.numkdhh, label=\"numkdhh\")"
   ]
  },
  {
   "cell_type": "code",
   "execution_count": 21,
   "id": "4fc2b657",
   "metadata": {},
   "outputs": [
    {
     "data": {
      "image/png": "[encoded data removed]",
      "text/plain": [
       "<Figure size 432x288 with 1 Axes>"
      ]
     },
     "metadata": {
      "needs_background": "light"
     },
     "output_type": "display_data"
    }
   ],
   "source": [
    "thinkplot.Pmf(pmf)\n",
    "thinkplot.Config(xlabel = \"Number of Children\", ylabel= \"PMF\")"
   ]
  },
  {
   "cell_type": "code",
   "execution_count": 25,
   "id": "e00f285c",
   "metadata": {},
   "outputs": [],
   "source": [
    "def BiasPmf(pmf, label):\n",
    "    new_pmf = pmf.Copy(label=label)\n",
    "    \n",
    "    for x, p in pmf.Items():\n",
    "        new_pmf.Mult(x, x)\n",
    "        \n",
    "    new_pmf.Normalize()\n",
    "    return new_pmf\n"
   ]
  },
  {
   "cell_type": "code",
   "execution_count": 27,
   "id": "433cd365",
   "metadata": {},
   "outputs": [
    {
     "data": {
      "image/png": "[encoded data removed]",
      "text/plain": [
       "<Figure size 432x288 with 1 Axes>"
      ]
     },
     "metadata": {
      "needs_background": "light"
     },
     "output_type": "display_data"
    }
   ],
   "source": [
    "biased_pmf = BiasPmf(pmf, label = \"biased observation\")\n",
    "thinkplot.Pmf(biased_pmf)\n",
    "thinkplot.Config(xlabel=\"Biased number of kids per household\", ylabel=\"biased pmf\")"
   ]
  },
  {
   "cell_type": "code",
   "execution_count": 29,
   "id": "780435ec",
   "metadata": {},
   "outputs": [
    {
     "data": {
      "image/png": "[encoded data removed]",
      "text/plain": [
       "<Figure size 432x288 with 1 Axes>"
      ]
     },
     "metadata": {
      "needs_background": "light"
     },
     "output_type": "display_data"
    },
    {
     "data": {
      "text/plain": [
       "<Figure size 576x432 with 0 Axes>"
      ]
     },
     "metadata": {},
     "output_type": "display_data"
    }
   ],
   "source": [
    "thinkplot.PrePlot(2)\n",
    "thinkplot.Pmfs([pmf, biased_pmf])\n",
    "thinkplot.Show(xlabel=\"kids per household\", ylabel = \"PMF\")"
   ]
  },
  {
   "cell_type": "markdown",
   "id": "2e6e9f4b",
   "metadata": {},
   "source": [
    "# Excercise 3.2\n",
    "\n",
    "Exercise 3.2 In Section 2.7 we computed the mean of a sample by adding\n",
    "up the elements and dividing by n. If you are given a PMF, you can still\n",
    "compute the mean, but the process is slightly different:\n",
    "x¯ =\n",
    "X\n",
    "i\n",
    "pi xi\n",
    "where the xi are the unique values in the PMF and pi = PMF(xi). Similarly,\n",
    "you can compute variance like this:\n",
    "\n",
    "\n",
    "\n",
    "$$\n",
    "S^2 = Xipi (xi − x¯)^2\n",
    "\n",
    "$$\n",
    "\n",
    "Write functions called PmfMean and PmfVar that take a Pmf object and compute the mean and variance. To test these methods, check that they are\n",
    "consistent with the methods Mean and Var provided by Pmf.\n"
   ]
  },
  {
   "cell_type": "code",
   "execution_count": 35,
   "id": "100a9810",
   "metadata": {},
   "outputs": [
    {
     "data": {
      "text/plain": [
       "1.024205155043831"
      ]
     },
     "execution_count": 35,
     "metadata": {},
     "output_type": "execute_result"
    }
   ],
   "source": [
    "pmf.Mean()"
   ]
  },
  {
   "cell_type": "code",
   "execution_count": 33,
   "id": "750d92e3",
   "metadata": {},
   "outputs": [
    {
     "data": {
      "text/plain": [
       "2.403679100664282"
      ]
     },
     "execution_count": 33,
     "metadata": {},
     "output_type": "execute_result"
    }
   ],
   "source": [
    "biased_pmf.Mean()"
   ]
  },
  {
   "cell_type": "code",
   "execution_count": 44,
   "id": "d8069469",
   "metadata": {},
   "outputs": [
    {
     "data": {
      "text/plain": [
       "1.024205155043831"
      ]
     },
     "execution_count": 44,
     "metadata": {},
     "output_type": "execute_result"
    }
   ],
   "source": [
    "def PmfMean(pmf):\n",
    "    ans = 0\n",
    "    for x, p in pmf.Items():\n",
    "        temp = x * p \n",
    "        ans += temp\n",
    "        \n",
    "    return ans\n",
    "\n",
    "PmfMean(pmf)"
   ]
  },
  {
   "cell_type": "code",
   "execution_count": 47,
   "id": "6b792935",
   "metadata": {},
   "outputs": [
    {
     "name": "stdout",
     "output_type": "stream",
     "text": [
      "the mean from PmfMean is 1.02\n"
     ]
    }
   ],
   "source": [
    "print(\"the mean from PmfMean is {:.2f}\".format(PmfMean(pmf)))"
   ]
  },
  {
   "cell_type": "code",
   "execution_count": 45,
   "id": "9f2450e1",
   "metadata": {},
   "outputs": [
    {
     "data": {
      "text/plain": [
       "1.4128643263531195"
      ]
     },
     "execution_count": 45,
     "metadata": {},
     "output_type": "execute_result"
    }
   ],
   "source": [
    "def PmfVar(pmf):\n",
    "    ans = 0\n",
    "    for x, p in pmf.Items():\n",
    "        temp = p * (x - PmfMean(pmf)) ** 2\n",
    "        ans += temp\n",
    "    return ans\n",
    "\n",
    "PmfVar(pmf)"
   ]
  },
  {
   "cell_type": "code",
   "execution_count": 46,
   "id": "e06455ab",
   "metadata": {},
   "outputs": [
    {
     "name": "stdout",
     "output_type": "stream",
     "text": [
      "The var from the Pmf function is 1.41\n"
     ]
    }
   ],
   "source": [
    "print(\"The var from the Pmf function is {:.2f}\".format(PmfVar(pmf)))"
   ]
  },
  {
   "cell_type": "markdown",
   "id": "71fe3885",
   "metadata": {},
   "source": [
    "# Exercise 4.1 \n",
    "How much did you weigh at birth? If you don’t know, call your\n",
    "mother or someone else who knows. Using the NSFG data (all live births),\n",
    "compute the distribution of birth weights and use it to find your percentile\n",
    "rank. If you were a first baby, find your percentile rank in the distribution\n",
    "for first babies. Otherwise use the distribution for others. If you are in the\n",
    "90th percentile or higher, call your mother back and apologize.\n"
   ]
  },
  {
   "cell_type": "code",
   "execution_count": 57,
   "id": "6f28b7f0",
   "metadata": {},
   "outputs": [],
   "source": [
    "my_wgt = 10.3"
   ]
  },
  {
   "cell_type": "code",
   "execution_count": 58,
   "id": "be7e16fd",
   "metadata": {},
   "outputs": [],
   "source": [
    "live, firsts, others = first.MakeFrames()\n",
    "\n",
    "first_wgt_dropna = firsts.totalwgt_lb.dropna()\n",
    "\n",
    "def PercentileRank(scores, your_score):\n",
    "    count = 0\n",
    "    for score in scores:\n",
    "        if score <= your_score:\n",
    "            count += 1\n",
    "\n",
    "    percentile_rank = 100.0 * count / len(scores)\n",
    "    return percentile_rank\n",
    "\n",
    "first_cdf = thinkstats2.Cdf(firsts.totalwgt_lb, label='first')\n",
    "\n"
   ]
  },
  {
   "cell_type": "code",
   "execution_count": 64,
   "id": "2aa12f55",
   "metadata": {},
   "outputs": [
    {
     "name": "stdout",
     "output_type": "stream",
     "text": [
      "I was was born in the 98.9 precentile at 10.3 pounds.\n"
     ]
    }
   ],
   "source": [
    "print(\"I was was born in the {:.1f}\".format(first_cdf.PercentileRank(my_wgt)) + \" precentile at \" + str(my_wgt) +  \" pounds.\")"
   ]
  },
  {
   "cell_type": "markdown",
   "id": "68418905",
   "metadata": {},
   "source": [
    "# Exercise 4.2 \n",
    "The numbers generated by random.random are supposed to be\n",
    "uniform between 0 and 1; that is, every value in the range should have the\n",
    "same probability.\n",
    "\n",
    "Generate 1000 numbers from random.random and plot their PMF and CDF.\n",
    "Is the distribution uniform?"
   ]
  },
  {
   "cell_type": "code",
   "execution_count": 69,
   "id": "08eacd99",
   "metadata": {},
   "outputs": [],
   "source": [
    "import matplotlib.pyplot as plt"
   ]
  },
  {
   "cell_type": "code",
   "execution_count": 70,
   "id": "c6ebb359",
   "metadata": {},
   "outputs": [
    {
     "data": {
      "text/plain": [
       "array([0.08332335, 0.63414178, 0.4384031 , 0.07146277, 0.64666405,\n",
       "       0.271877  , 0.18375121, 0.25421285, 0.69830633, 0.66903513,\n",
       "       0.97363963, 0.01163131, 0.23262581, 0.7080411 , 0.61153076,\n",
       "       0.08228386, 0.38856905, 0.34427014, 0.92580421, 0.50947594,\n",
       "       0.97977952, 0.54573932, 0.06213501, 0.0650552 , 0.97831082,\n",
       "       0.37432386, 0.53812217, 0.07659133, 0.18908291, 0.58204208,\n",
       "       0.4611467 , 0.08328962, 0.40271617, 0.33361185, 0.74353804,\n",
       "       0.6500434 , 0.07795635, 0.43250175, 0.62663751, 0.97185695,\n",
       "       0.71464121, 0.36620196, 0.81949237, 0.4603275 , 0.58435681,\n",
       "       0.67334509, 0.03424459, 0.70485946, 0.33839921, 0.26153741,\n",
       "       0.94261583, 0.88727833, 0.45864609, 0.7184131 , 0.12098013,\n",
       "       0.62223811, 0.00950223, 0.1612672 , 0.3399884 , 0.92962681,\n",
       "       0.72473227, 0.34441083, 0.84041424, 0.50360509, 0.39661259,\n",
       "       0.38438586, 0.85683474, 0.70660569, 0.312877  , 0.836058  ,\n",
       "       0.45600948, 0.11110029, 0.05751118, 0.99112355, 0.66384623,\n",
       "       0.96006822, 0.15177534, 0.49715508, 0.98165334, 0.6162496 ,\n",
       "       0.97849261, 0.83410895, 0.46766164, 0.91068965, 0.73398978,\n",
       "       0.48011107, 0.21566898, 0.63732607, 0.27916488, 0.73940682,\n",
       "       0.84884356, 0.42483026, 0.80806369, 0.48360309, 0.41593925,\n",
       "       0.6488909 , 0.96351576, 0.59782437, 0.79194425, 0.74733426,\n",
       "       0.15860459, 0.19179839, 0.68042007, 0.62914288, 0.91489204,\n",
       "       0.54316349, 0.98926838, 0.63941228, 0.42234561, 0.15025738,\n",
       "       0.75965623, 0.73567319, 0.61985818, 0.39079409, 0.88448845,\n",
       "       0.54874194, 0.61753854, 0.12281115, 0.17995149, 0.67859578,\n",
       "       0.83922599, 0.59693072, 0.90353231, 0.71300809, 0.59060809,\n",
       "       0.80713097, 0.38126387, 0.16020941, 0.3112536 , 0.61696188,\n",
       "       0.87086428, 0.19266944, 0.0111294 , 0.66988255, 0.41012774,\n",
       "       0.38883774, 0.70093144, 0.03716251, 0.80396323, 0.30619797,\n",
       "       0.11080071, 0.33203144, 0.41389719, 0.48668184, 0.8439982 ,\n",
       "       0.80561342, 0.26063587, 0.03653205, 0.41665194, 0.83811254,\n",
       "       0.39882528, 0.51203029, 0.71178593, 0.83718651, 0.18357086,\n",
       "       0.0879481 , 0.00412327, 0.28773175, 0.2847866 , 0.81549893,\n",
       "       0.62503536, 0.15030861, 0.7761562 , 0.00961477, 0.41104485,\n",
       "       0.49100834, 0.47148242, 0.18599836, 0.42198421, 0.98122834,\n",
       "       0.17274476, 0.54524067, 0.28029928, 0.77005175, 0.73065329,\n",
       "       0.49586944, 0.11818712, 0.45902081, 0.58091648, 0.2234003 ,\n",
       "       0.1577072 , 0.70826325, 0.96742522, 0.46549298, 0.58590735,\n",
       "       0.95062631, 0.01980888, 0.91283002, 0.70050775, 0.86680621,\n",
       "       0.99006828, 0.38212555, 0.89539641, 0.15793033, 0.90613166,\n",
       "       0.14133731, 0.71258772, 0.53637105, 0.40284954, 0.53796266,\n",
       "       0.20599449, 0.82582936, 0.66180767, 0.50291533, 0.72382024,\n",
       "       0.5500477 , 0.62983942, 0.0504222 , 0.3182984 , 0.9969007 ,\n",
       "       0.78884742, 0.92060647, 0.81661402, 0.11349467, 0.71914344,\n",
       "       0.7094735 , 0.04401078, 0.84892355, 0.36016123, 0.8785042 ,\n",
       "       0.91127721, 0.28503005, 0.30839614, 0.96457479, 0.03772018,\n",
       "       0.20845455, 0.76074523, 0.53665203, 0.52150222, 0.11687228,\n",
       "       0.89760516, 0.32271671, 0.20851245, 0.49287232, 0.71249179,\n",
       "       0.48077848, 0.40872493, 0.57576342, 0.75396976, 0.63892606,\n",
       "       0.51079297, 0.70107791, 0.75847443, 0.31753326, 0.56259742,\n",
       "       0.40753121, 0.15360519, 0.04574856, 0.95766506, 0.42690651,\n",
       "       0.02687975, 0.8485531 , 0.37239073, 0.32884269, 0.66731494,\n",
       "       0.87908324, 0.99946079, 0.40690052, 0.34817904, 0.55548141,\n",
       "       0.01642072, 0.20495614, 0.58120904, 0.40713447, 0.57409796,\n",
       "       0.81029767, 0.28197693, 0.48303876, 0.94685279, 0.98979042,\n",
       "       0.53203143, 0.77603478, 0.97025579, 0.93850889, 0.79859637,\n",
       "       0.66093089, 0.52491748, 0.4913213 , 0.41979602, 0.45906429,\n",
       "       0.57069347, 0.58983485, 0.76872221, 0.89555291, 0.8113428 ,\n",
       "       0.1367609 , 0.42823127, 0.6602268 , 0.72238895, 0.64475937,\n",
       "       0.95468598, 0.06798204, 0.63774407, 0.81517828, 0.58166301,\n",
       "       0.557895  , 0.58782625, 0.73573012, 0.64547226, 0.17507839,\n",
       "       0.39644023, 0.0951879 , 0.35175037, 0.69491354, 0.92236337,\n",
       "       0.81233428, 0.90569457, 0.66822061, 0.0479028 , 0.94504418,\n",
       "       0.23127316, 0.96511132, 0.93752194, 0.29677872, 0.49930796,\n",
       "       0.5845786 , 0.43861737, 0.23374333, 0.14786757, 0.28552772,\n",
       "       0.50837822, 0.64896847, 0.26191369, 0.69099546, 0.30132241,\n",
       "       0.62658655, 0.54837774, 0.68270163, 0.17513207, 0.75568073,\n",
       "       0.28431018, 0.44957914, 0.8444977 , 0.08528128, 0.97754561,\n",
       "       0.07823998, 0.38639023, 0.6143455 , 0.79509784, 0.42264202,\n",
       "       0.86874352, 0.87452459, 0.43673101, 0.8099707 , 0.22052502,\n",
       "       0.65920208, 0.56072483, 0.28257792, 0.71636733, 0.85578853,\n",
       "       0.62244793, 0.27225069, 0.09722757, 0.39420427, 0.11236006,\n",
       "       0.14627942, 0.93933245, 0.18851743, 0.26061877, 0.62240766,\n",
       "       0.80583606, 0.50963936, 0.20224494, 0.39898584, 0.64888401,\n",
       "       0.72317796, 0.96011817, 0.64589092, 0.75367999, 0.8815674 ,\n",
       "       0.0768477 , 0.2200095 , 0.68756659, 0.01250662, 0.74143756,\n",
       "       0.16253548, 0.2470227 , 0.19175196, 0.63763696, 0.0561119 ,\n",
       "       0.26259436, 0.5653763 , 0.77285552, 0.44024479, 0.51300358,\n",
       "       0.38499873, 0.71224658, 0.60122367, 0.11362655, 0.65298511,\n",
       "       0.28055923, 0.56450042, 0.13224403, 0.72667303, 0.07147659,\n",
       "       0.00466263, 0.60329023, 0.96507918, 0.77902477, 0.61838211,\n",
       "       0.38146551, 0.55637133, 0.92302945, 0.69900256, 0.55242883,\n",
       "       0.2131771 , 0.40492968, 0.67412517, 0.55658084, 0.42569892,\n",
       "       0.21109695, 0.46116948, 0.28720504, 0.55793377, 0.94809127,\n",
       "       0.54597981, 0.68432779, 0.65792839, 0.87175376, 0.28046052,\n",
       "       0.57181749, 0.48037133, 0.45806288, 0.31083203, 0.54019191,\n",
       "       0.874263  , 0.61004328, 0.16906295, 0.5189169 , 0.3888455 ,\n",
       "       0.27203352, 0.30867656, 0.49630833, 0.57782396, 0.04026047,\n",
       "       0.09993717, 0.69548   , 0.72447811, 0.29653967, 0.31778838,\n",
       "       0.57065005, 0.95907155, 0.30446315, 0.2955269 , 0.95149756,\n",
       "       0.36663992, 0.64425904, 0.73726169, 0.01848371, 0.24406635,\n",
       "       0.34404435, 0.60259035, 0.19885905, 0.24931025, 0.75243091,\n",
       "       0.42460948, 0.04713901, 0.3162032 , 0.83639065, 0.65211721,\n",
       "       0.13494353, 0.45818941, 0.5727573 , 0.2118391 , 0.58876398,\n",
       "       0.53356657, 0.07318353, 0.6379615 , 0.8620818 , 0.67738249,\n",
       "       0.25690566, 0.39170787, 0.89863718, 0.53547232, 0.23693891,\n",
       "       0.17919636, 0.4566252 , 0.25036246, 0.2182782 , 0.12731829,\n",
       "       0.32644617, 0.26805329, 0.81805568, 0.59768432, 0.13297765,\n",
       "       0.39436038, 0.96718649, 0.21125239, 0.01382714, 0.97638513,\n",
       "       0.92818513, 0.83493398, 0.99736098, 0.13273459, 0.48755672,\n",
       "       0.81235625, 0.33387546, 0.10475339, 0.69202729, 0.34204245,\n",
       "       0.61063851, 0.18803451, 0.93380585, 0.34264821, 0.52939838,\n",
       "       0.26641967, 0.30063807, 0.11488107, 0.13680075, 0.52459564,\n",
       "       0.52377676, 0.98033806, 0.34178546, 0.24603403, 0.49495901,\n",
       "       0.2629326 , 0.29177629, 0.36761106, 0.90810026, 0.93350252,\n",
       "       0.83138796, 0.76497657, 0.18954653, 0.59978423, 0.60499739,\n",
       "       0.63042727, 0.40095885, 0.49738584, 0.62043157, 0.81546987,\n",
       "       0.88834046, 0.71922236, 0.32733004, 0.38396096, 0.36194026,\n",
       "       0.87207406, 0.03443224, 0.64712517, 0.69835098, 0.41327882,\n",
       "       0.42474802, 0.55507498, 0.04517243, 0.44812404, 0.49652911,\n",
       "       0.86741995, 0.93608119, 0.01395579, 0.98950854, 0.08572777,\n",
       "       0.85286929, 0.85455893, 0.56320383, 0.10791106, 0.73535426,\n",
       "       0.96100965, 0.52965593, 0.01209457, 0.5537738 , 0.4990432 ,\n",
       "       0.71434982, 0.43881932, 0.43460205, 0.93615276, 0.10305917,\n",
       "       0.28875396, 0.63465065, 0.04576434, 0.16309628, 0.70636353,\n",
       "       0.79949351, 0.20398797, 0.79061508, 0.10843219, 0.49699536,\n",
       "       0.27415362, 0.26098392, 0.96701806, 0.97022806, 0.86493197,\n",
       "       0.53130274, 0.12394964, 0.31632494, 0.22645287, 0.66706196,\n",
       "       0.16931363, 0.5580198 , 0.96811941, 0.95771289, 0.87947467,\n",
       "       0.56090534, 0.1203287 , 0.03892402, 0.68940792, 0.74948839,\n",
       "       0.76680284, 0.94411382, 0.4137384 , 0.18237295, 0.40970469,\n",
       "       0.02861045, 0.73476214, 0.85623668, 0.94515858, 0.80369203,\n",
       "       0.13702887, 0.7631716 , 0.41148025, 0.34626163, 0.66524339,\n",
       "       0.83114546, 0.97501093, 0.5004169 , 0.73084031, 0.56633779,\n",
       "       0.61996196, 0.00566765, 0.00690505, 0.97219065, 0.38523458,\n",
       "       0.2878474 , 0.40055824, 0.15280895, 0.83651482, 0.63276558,\n",
       "       0.73200496, 0.23246201, 0.4913144 , 0.52873591, 0.99057663,\n",
       "       0.38817919, 0.91628935, 0.89659276, 0.20885456, 0.78984681,\n",
       "       0.82156387, 0.11142756, 0.42957527, 0.54370845, 0.23137753,\n",
       "       0.70514213, 0.72258735, 0.42388077, 0.24609403, 0.23002066,\n",
       "       0.65322957, 0.47536118, 0.26021183, 0.99733097, 0.57768857,\n",
       "       0.51573226, 0.96451129, 0.40172535, 0.20574666, 0.95061548,\n",
       "       0.38780217, 0.97747414, 0.21280713, 0.10623402, 0.68236253,\n",
       "       0.428454  , 0.36567353, 0.82893267, 0.05332434, 0.52897857,\n",
       "       0.6100445 , 0.14553456, 0.09789935, 0.63622132, 0.7323531 ,\n",
       "       0.77783457, 0.90475986, 0.46951823, 0.1071329 , 0.72478581,\n",
       "       0.72389775, 0.37125116, 0.5811844 , 0.84317287, 0.80694043,\n",
       "       0.60701939, 0.63183335, 0.76787683, 0.93565359, 0.95641101,\n",
       "       0.68284433, 0.5572313 , 0.41949296, 0.89239125, 0.99200205,\n",
       "       0.5883971 , 0.3477553 , 0.59251733, 0.95608143, 0.73986278,\n",
       "       0.74393327, 0.34096945, 0.15563559, 0.21432083, 0.50725911,\n",
       "       0.96708769, 0.84091716, 0.64263999, 0.56176155, 0.17384767,\n",
       "       0.68417028, 0.25844369, 0.070917  , 0.31713184, 0.56528874,\n",
       "       0.26086515, 0.94336593, 0.35494207, 0.7277252 , 0.00200664,\n",
       "       0.15500087, 0.54012508, 0.19916595, 0.3820114 , 0.12459362,\n",
       "       0.91763338, 0.03096284, 0.66264739, 0.0674556 , 0.45938349,\n",
       "       0.98247515, 0.03169554, 0.36672816, 0.62510768, 0.46552923,\n",
       "       0.83862058, 0.8836911 , 0.33859263, 0.74211596, 0.44886929,\n",
       "       0.25748523, 0.86526338, 0.17572258, 0.60966872, 0.3560114 ,\n",
       "       0.06005685, 0.90464482, 0.95002301, 0.43685827, 0.62658151,\n",
       "       0.10947149, 0.07127037, 0.41328251, 0.20486267, 0.31677909,\n",
       "       0.55661338, 0.9529574 , 0.24835361, 0.23867167, 0.10715532,\n",
       "       0.03645168, 0.90420009, 0.35169965, 0.372306  , 0.21895948,\n",
       "       0.64228319, 0.52482289, 0.53124409, 0.62194678, 0.46001941,\n",
       "       0.04748238, 0.06320863, 0.13738736, 0.71487553, 0.61906859,\n",
       "       0.75288696, 0.0426317 , 0.73535553, 0.79335828, 0.00768385,\n",
       "       0.11938451, 0.29220901, 0.1651554 , 0.72413082, 0.49643348,\n",
       "       0.20392902, 0.53073249, 0.07631967, 0.47780587, 0.6726514 ,\n",
       "       0.327884  , 0.92744687, 0.91928843, 0.04277131, 0.97245388,\n",
       "       0.40900797, 0.67016946, 0.06133257, 0.37563057, 0.26372652,\n",
       "       0.1695334 , 0.11236234, 0.28988978, 0.25293385, 0.10506039,\n",
       "       0.54819113, 0.26431101, 0.31970309, 0.60502083, 0.94852542,\n",
       "       0.43188784, 0.2820315 , 0.10060961, 0.91038211, 0.22911068,\n",
       "       0.03725154, 0.52941908, 0.3622772 , 0.75080386, 0.33745831,\n",
       "       0.02419163, 0.94623339, 0.61301254, 0.10729916, 0.83243342,\n",
       "       0.7383377 , 0.72526368, 0.84902371, 0.51865205, 0.58439326,\n",
       "       0.30104782, 0.46070318, 0.05157478, 0.9459136 , 0.29737424,\n",
       "       0.62688389, 0.75700814, 0.70166801, 0.73491729, 0.2233298 ,\n",
       "       0.86721215, 0.88224083, 0.51977955, 0.68314371, 0.01122099,\n",
       "       0.01967124, 0.67880164, 0.13849022, 0.12102708, 0.19148831,\n",
       "       0.7664289 , 0.63432797, 0.51438414, 0.73986059, 0.58285176,\n",
       "       0.69585849, 0.54297509, 0.45158421, 0.59006285, 0.62589648,\n",
       "       0.92858406, 0.64827401, 0.22550317, 0.13212976, 0.19461303,\n",
       "       0.87125872, 0.63732728, 0.11612055, 0.46512352, 0.2049806 ,\n",
       "       0.11122685, 0.40962597, 0.91737578, 0.90724252, 0.74797384,\n",
       "       0.61721635, 0.58751671, 0.6014619 , 0.76174556, 0.79004486,\n",
       "       0.71244274, 0.12905887, 0.83132269, 0.44361403, 0.79810295,\n",
       "       0.84684477, 0.71021017, 0.59518255, 0.20807062, 0.18241246,\n",
       "       0.08303051, 0.67066086, 0.27954814, 0.25004072, 0.06617584,\n",
       "       0.40762924, 0.55278054, 0.90917374, 0.4843144 , 0.68507134,\n",
       "       0.82726719, 0.43710725, 0.86128277, 0.85481843, 0.88102818,\n",
       "       0.13728134, 0.30602008, 0.96509603, 0.11527141, 0.352358  ,\n",
       "       0.92286326, 0.90827278, 0.57120534, 0.00701615, 0.72604719,\n",
       "       0.67328793, 0.53594008, 0.54713509, 0.09955602, 0.67931846,\n",
       "       0.69348957, 0.84133028, 0.30403831, 0.95898113, 0.82621061,\n",
       "       0.85606001, 0.80854804, 0.57405235, 0.37683174, 0.2147209 ,\n",
       "       0.93667724, 0.57096937, 0.28409145, 0.12719663, 0.76695129,\n",
       "       0.09654252, 0.08097133, 0.58028821, 0.6942902 , 0.57858386,\n",
       "       0.41171703, 0.03125501, 0.05345004, 0.06935854, 0.81963916,\n",
       "       0.21358423, 0.46323333, 0.34204033, 0.67344921, 0.09286469,\n",
       "       0.19678218, 0.82000684, 0.09398101, 0.71092051, 0.68705511,\n",
       "       0.36205929, 0.86452527, 0.03619569, 0.11517524, 0.50116946,\n",
       "       0.33214412, 0.28355441, 0.17992258, 0.04308823, 0.24628079,\n",
       "       0.88646935, 0.70132116, 0.79906427, 0.69918918, 0.07348365,\n",
       "       0.85855243, 0.04544482, 0.20243278, 0.80158338, 0.43018946,\n",
       "       0.77113409, 0.47230849, 0.77333202, 0.27823187, 0.40782019,\n",
       "       0.86143436, 0.95430975, 0.2735364 , 0.27250411, 0.76461384,\n",
       "       0.91429544, 0.70882828, 0.37187491, 0.98443904, 0.08442374,\n",
       "       0.57338837, 0.33355887, 0.27520484, 0.49297328, 0.92516848,\n",
       "       0.52422529, 0.52609521, 0.42865534, 0.41354746, 0.99776121,\n",
       "       0.5441532 , 0.23093903, 0.28834353, 0.18403264, 0.44939991])"
      ]
     },
     "execution_count": 70,
     "metadata": {},
     "output_type": "execute_result"
    }
   ],
   "source": [
    "rand_num = np.random.random(1000)\n",
    "rand_num"
   ]
  },
  {
   "cell_type": "code",
   "execution_count": 79,
   "id": "cb4dfdbf",
   "metadata": {
    "scrolled": true
   },
   "outputs": [
    {
     "data": {
      "image/png": "[encoded data removed]",
      "text/plain": [
       "<Figure size 432x288 with 1 Axes>"
      ]
     },
     "metadata": {},
     "output_type": "display_data"
    }
   ],
   "source": [
    "#PMF\n",
    "pmf = thinkstats2.Pmf(rand_num, label=\"Random Numbers\")\n",
    "thinkplot.Pmf(pmf, linewidth = .05)\n",
    "thinkplot.Config(xlabel=\"Random Numbers\", ylabel= \"PMF\")"
   ]
  },
  {
   "cell_type": "markdown",
   "id": "205eb0e0",
   "metadata": {},
   "source": [
    "Would seem this is very hard to determine if this data is actually useful with how cluttered it is."
   ]
  },
  {
   "cell_type": "code",
   "execution_count": 85,
   "id": "e2b2b3f8",
   "metadata": {},
   "outputs": [
    {
     "data": {
      "image/png": "[encoded data removed]",
      "text/plain": [
       "<Figure size 432x288 with 1 Axes>"
      ]
     },
     "metadata": {},
     "output_type": "display_data"
    }
   ],
   "source": [
    "# CDF\n",
    "cdf = thinkstats2.Cdf(rand_num, label = \"Random Numbers\")\n",
    "thinkplot.Cdf(cdf, linewidth = 2)\n",
    "thinkplot.Config(xlabel = \"Random Numbers\", ylabel = \"CDF\")"
   ]
  },
  {
   "cell_type": "markdown",
   "id": "bddc4719",
   "metadata": {},
   "source": [
    "Data from the cdf appears to be uniform as it forms a straight line for CDF"
   ]
  },
  {
   "cell_type": "code",
   "execution_count": null,
   "id": "589395f3",
   "metadata": {},
   "outputs": [],
   "source": []
  }
 ],
 "metadata": {
  "kernelspec": {
   "display_name": "Python 3 (ipykernel)",
   "language": "python",
   "name": "python3"
  },
  "language_info": {
   "codemirror_mode": {
    "name": "ipython",
    "version": 3
   },
   "file_extension": ".py",
   "mimetype": "text/x-python",
   "name": "python",
   "nbconvert_exporter": "python",
   "pygments_lexer": "ipython3",
   "version": "3.9.7"
  }
 },
 "nbformat": 4,
 "nbformat_minor": 5
}
