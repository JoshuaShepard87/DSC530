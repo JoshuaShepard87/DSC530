{
 "cells": [
  {
   "cell_type": "markdown",
   "id": "45378178-571c-44e7-88fd-531bbea337c8",
   "metadata": {},
   "source": [
    "# Week 10\n",
    "\n",
    "Joshua Burden  \n",
    "DSC530 Week 9\n",
    "Bellevue University  \n",
    "Catherine Williams  \n",
    "08/08/2022\n",
    "\n",
    "Examples and Exercises from Think Stats, 2nd Edition\n",
    "\n",
    "http://thinkstats2.com\n",
    "\n",
    "Copyright 2016 Allen B. Downey\n",
    "\n",
    "MIT License: https://opensource.org/licenses/MIT7"
   ]
  },
  {
   "cell_type": "code",
   "execution_count": 76,
   "id": "8ae40b69-8b30-43e8-8bbb-1e47996e8ccb",
   "metadata": {},
   "outputs": [
    {
     "name": "stdout",
     "output_type": "stream",
     "text": [
      "Downloaded 2006_2010_FemResp.dat.gz\n"
     ]
    }
   ],
   "source": [
    "from __future__ import print_function, division\n",
    "\n",
    "from os.path import basename, exists\n",
    "\n",
    "%matplotlib inline\n",
    "\n",
    "\n",
    "\n",
    "\n",
    "def download(url):\n",
    "    filename = basename(url)\n",
    "    if not exists(filename):\n",
    "        from urllib.request import urlretrieve\n",
    "\n",
    "        local, _ = urlretrieve(url, filename)\n",
    "        print(\"Downloaded \" + local)\n",
    "download(\"https://github.com/AllenDowney/ThinkStats2/raw/master/code/thinkstats2.py\")\n",
    "download(\"https://github.com/AllenDowney/ThinkStats2/raw/master/code/thinkplot.py\")\n",
    "download(\"https://github.com/AllenDowney/ThinkStats2/raw/master/code/thinkstats2.py\")\n",
    "download(\"https://github.com/AllenDowney/ThinkStats2/raw/master/code/nsfg.py\")\n",
    "download(\"https://github.com/AllenDowney/ThinkStats2/raw/master/code/2002FemPreg.dct\")\n",
    "download(\"https://github.com/AllenDowney/ThinkStats2/raw/master/code/2002FemPreg.dat.gz\")\n",
    "download(\"https://github.com/AllenDowney/ThinkStats2/raw/master/code/2002FemResp.dct\")\n",
    "download(\"https://github.com/AllenDowney/ThinkStats2/raw/master/code/2002FemResp.dat.gz\")\n",
    "download(\"https://github.com/AllenDowney/ThinkStats2/raw/master/code/survival.py\")\n",
    "download(\"https://github.com/AllenDowney/ThinkStats2/raw/master/code/1995FemRespData.dat.gz\")\n",
    "download(\"https://github.com/AllenDowney/ThinkStats2/raw/master/code/2006_2010_FemRespSetup.dct\")\n",
    "download(\"https://github.com/AllenDowney/ThinkStats2/raw/master/code/2006_2010_FemResp.dat.gz\")\n",
    "\n",
    "\n",
    "\n"
   ]
  },
  {
   "cell_type": "code",
   "execution_count": 77,
   "id": "f3647d91-5e09-4055-ac2c-f8a7899fa2de",
   "metadata": {},
   "outputs": [],
   "source": [
    "import numpy as np\n",
    "import pandas as pd\n",
    "\n",
    "import random\n",
    "\n",
    "import thinkstats2\n",
    "import thinkplot\n",
    "import nsfg\n",
    "\n",
    "import nsfg\n",
    "\n",
    "preg = nsfg.ReadFemPreg()\n",
    "complete = preg.query('outcome in [1, 3, 4]').prglngth\n",
    "cdf = thinkstats2.Cdf(complete, label='cdf')\n",
    "\n",
    "import survival"
   ]
  },
  {
   "cell_type": "code",
   "execution_count": 78,
   "id": "e59cfcfc-99f9-43bd-9658-5689f2f7034e",
   "metadata": {},
   "outputs": [],
   "source": [
    "def MakeSurvivalFromCdf(cdf, label=''):\n",
    "    \"\"\"Makes a survival function based on a CDF.\n",
    "\n",
    "    cdf: Cdf\n",
    "    \n",
    "    returns: SurvivalFunction\n",
    "    \"\"\"\n",
    "    ts = cdf.xs\n",
    "    ss = 1 - cdf.ps\n",
    "    return survival.SurvivalFunction(ts, ss, label)\n",
    "sf = MakeSurvivalFromCdf(cdf, label='survival')"
   ]
  },
  {
   "cell_type": "markdown",
   "id": "bdedbf83-1ef0-4e11-92be-a99a92cb3c44",
   "metadata": {},
   "source": [
    "# Excerise  Pages 180-181: 13-1 \n",
    "In NSFG Cycles 6 and 7, the variable cmdivorcx contains the date of divorce for the respondent’s first marriage, if applicable, encoded in century-months.\n",
    "\n",
    "Compute the duration of marriages that have ended in divorce, and the duration, so far, of marriages that are ongoing. Estimate the hazard and survival curve for the duration of marriage.\n",
    "\n",
    "Use resampling to take into account sampling weights, and plot data from several resamples to visualize sampling error.\n",
    "\n",
    "Consider dividing the respondents into groups by decade of birth, and possibly by age at first marriage."
   ]
  },
  {
   "cell_type": "code",
   "execution_count": 84,
   "id": "52155529-fe81-44d3-8e82-bbb32daa588e",
   "metadata": {},
   "outputs": [],
   "source": [
    "def CleanData(resp):\n",
    "    \"\"\"Cleans respondent data.\n",
    "\n",
    "    resp: DataFrame\n",
    "    \"\"\"\n",
    "    resp.cmdivorcx.replace([9998, 9999], np.nan, inplace=True)\n",
    "\n",
    "    resp['notdivorced'] = resp.cmdivorcx.isnull().astype(int)\n",
    "    resp['duration'] = (resp.cmdivorcx - resp.cmmarrhx) / 12.0\n",
    "    resp['durationsofar'] = (resp.cmintvw - resp.cmmarrhx) / 12.0\n",
    "\n",
    "    month0 = pd.to_datetime('1899-12-15')\n",
    "    dates = [month0 + pd.DateOffset(months=cm) \n",
    "             for cm in resp.cmbirth]\n",
    "    resp['decade'] = (pd.DatetimeIndex(dates).year - 1900) // 10"
   ]
  },
  {
   "cell_type": "code",
   "execution_count": 85,
   "id": "b716e5dc-0d38-4d2d-9fba-5d39ddb73241",
   "metadata": {},
   "outputs": [],
   "source": [
    "resp6 = nsfg.ReadFemResp()\n",
    "resp6.cmmarrhx.replace([9997, 9998, 9999], np.nan, inplace=True)\n",
    "resp6['agemarry'] = (resp6.cmmarrhx - resp6.cmbirth) / 12.0\n",
    "resp6['age'] = (resp6.cmintvw - resp6.cmbirth) / 12.0\n",
    "omplete = resp6[resp6.evrmarry==1].agemarry.dropna()\n",
    "ongoing = resp6[resp6.evrmarry==0].age"
   ]
  },
  {
   "cell_type": "code",
   "execution_count": 86,
   "id": "81a8dc70-fbef-441b-b1f5-1129aac3ee06",
   "metadata": {},
   "outputs": [],
   "source": [
    "resp5 = survival.ReadFemResp1995()\n",
    "resp6 = survival.ReadFemResp2002()\n",
    "resp7 = survival.ReadFemResp2010()"
   ]
  },
  {
   "cell_type": "code",
   "execution_count": 87,
   "id": "ca73de8f-3e4b-431b-9745-af41d9c89feb",
   "metadata": {},
   "outputs": [],
   "source": [
    "CleanData(resp6)\n",
    "married6 = resp6[resp6.evrmarry==1]\n",
    "\n",
    "CleanData(resp7)\n",
    "married7 = resp7[resp7.evrmarry==1]"
   ]
  },
  {
   "cell_type": "code",
   "execution_count": 88,
   "id": "7bb0cae1-836e-4456-8b26-55ffbede1f76",
   "metadata": {},
   "outputs": [],
   "source": [
    "# plot divorce curves on resampled data\n",
    "\n",
    "def ResampleDivorceCurve(resps):\n",
    "\n",
    "    for _ in range(11):\n",
    "        samples = [thinkstats2.ResampleRowsWeighted(resp) \n",
    "                   for resp in resps]\n",
    "        sample = pd.concat(samples, ignore_index=True)\n",
    "        PlotDivorceCurveByDecade(sample, color='#225EA8', alpha=0.1)\n",
    "\n",
    "    thinkplot.Show(xlabel='years',\n",
    "                   axis=[0, 28, 0, 1])"
   ]
  },
  {
   "cell_type": "code",
   "execution_count": 89,
   "id": "1c328c70-f074-497a-b961-04562b32c15a",
   "metadata": {},
   "outputs": [],
   "source": [
    "# plots divorce curves on birth cohort\n",
    "\n",
    "def ResampleDivorceCurveByDecade(resps):\n",
    " \n",
    "    for i in range(41):\n",
    "        samples = [thinkstats2.ResampleRowsWeighted(resp) \n",
    "                   for resp in resps]\n",
    "        sample = pd.concat(samples, ignore_index=True)\n",
    "        groups = sample.groupby('decade')\n",
    "        if i == 0:\n",
    "            survival.AddLabelsByDecade(groups, alpha=0.7)\n",
    "\n",
    "        EstimateSurvivalByDecade(groups, alpha=0.1)\n",
    "\n",
    "    thinkplot.Config(xlabel='Years',\n",
    "                     ylabel='Fraction undivorced',\n",
    "                     axis=[0, 28, 0, 1])"
   ]
  },
  {
   "cell_type": "code",
   "execution_count": 90,
   "id": "96e23cbd-d75d-42c9-be56-3dbe96ac089a",
   "metadata": {},
   "outputs": [],
   "source": [
    "# Decade and plots suvival curve\n",
    "\n",
    "def EstimateSurvivalByDecade(groups, **options):\n",
    "\n",
    "    thinkplot.PrePlot(len(groups))\n",
    "    for name, group in groups:\n",
    "        _, sf = EstimateSurvival(group)\n",
    "        thinkplot.Plot(sf, **options)\n",
    "def EstimateSurvival(resp):\n",
    "\n",
    "    complete = resp[resp.notdivorced == 0].duration.dropna()\n",
    "    ongoing = resp[resp.notdivorced == 1].durationsofar.dropna()\n",
    "\n",
    "    hf = survival.EstimateHazardFunction(complete, ongoing)\n",
    "    sf = hf.MakeSurvival()\n",
    "\n",
    "    return hf, sf"
   ]
  },
  {
   "cell_type": "code",
   "execution_count": 91,
   "id": "d2043fc9-2f47-46b1-bd40-677bdef24736",
   "metadata": {},
   "outputs": [
    {
     "data": {
      "image/png": "[encoded data removed]",
      "text/plain": [
       "<Figure size 432x288 with 1 Axes>"
      ]
     },
     "metadata": {
      "needs_background": "light"
     },
     "output_type": "display_data"
    }
   ],
   "source": [
    "ResampleDivorceCurveByDecade([married6, married7])"
   ]
  },
  {
   "cell_type": "code",
   "execution_count": null,
   "id": "22f822cb-b5ef-4854-b268-f66e462f0302",
   "metadata": {},
   "outputs": [],
   "source": []
  }
 ],
 "metadata": {
  "kernelspec": {
   "display_name": "Python 3 (ipykernel)",
   "language": "python",
   "name": "python3"
  },
  "language_info": {
   "codemirror_mode": {
    "name": "ipython",
    "version": 3
   },
   "file_extension": ".py",
   "mimetype": "text/x-python",
   "name": "python",
   "nbconvert_exporter": "python",
   "pygments_lexer": "ipython3",
   "version": "3.9.7"
  }
 },
 "nbformat": 4,
 "nbformat_minor": 5
}
