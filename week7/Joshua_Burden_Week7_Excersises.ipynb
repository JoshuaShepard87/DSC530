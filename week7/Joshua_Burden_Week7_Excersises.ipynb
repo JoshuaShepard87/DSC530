{
 "cells": [
  {
   "cell_type": "markdown",
   "id": "0a5d17d5-6b3c-4c24-9bef-3d2262716b63",
   "metadata": {
    "tags": []
   },
   "source": [
    "# Week 7\n",
    "\n",
    "Joshua Burden  \n",
    "DSC530 Week 7\n",
    "Bellevue University  \n",
    "Catherine Williams  \n",
    "06/19/2022\n",
    "\n",
    "Examples and Exercises from Think Stats, 2nd Edition\n",
    "\n",
    "http://thinkstats2.com\n",
    "\n",
    "Copyright 2016 Allen B. Downey\n",
    "\n",
    "MIT License: https://opensource.org/licenses/MIT7"
   ]
  },
  {
   "cell_type": "code",
   "execution_count": 32,
   "id": "75ab223c-59bd-4787-9269-25121ca78a21",
   "metadata": {},
   "outputs": [],
   "source": [
    "from __future__ import print_function, division\n",
    "\n",
    "from os.path import basename, exists\n",
    "\n",
    "%matplotlib inline\n",
    "\n",
    "import numpy as np\n",
    "import random \n",
    "import hypothesis\n",
    "\n",
    "# import scatter\n",
    "import thinkstats2\n",
    "\n",
    "def download(url):\n",
    "    filename = basename(url)\n",
    "    if not exists(filename):\n",
    "        from urllib.request import urlretrieve\n",
    "\n",
    "        local, _ = urlretrieve(url, filename)\n",
    "        print(\"Downloaded \" + local)\n",
    "\n",
    "\n",
    "download(\"https://github.com/AllenDowney/ThinkStats2/raw/master/code/thinkstats2.py\")\n",
    "download(\"https://github.com/AllenDowney/ThinkStats2/raw/master/code/thinkplot.py\")\n",
    "download(\"https://github.com/AllenDowney/ThinkStats2/raw/master/code/first.py\")\n",
    "download(\"https://github.com/AllenDowney/ThinkStats2/raw/master/code/nsfg.py\")\n",
    "download(\"https://github.com/AllenDowney/ThinkStats2/raw/master/code/hypothesis.py\")\n",
    "download(\"https://github.com/AllenDowney/ThinkStats2/raw/master/code/2002FemPreg.dct\")\n",
    "download(\"https://github.com/AllenDowney/ThinkStats2/raw/master/code/2002FemPreg.dat.gz\")\n",
    "download(\"https://github.com/AllenDowney/ThinkStats2/raw/master/code/nsfg2.py\")\n",
    "\n",
    "\n",
    "\n"
   ]
  },
  {
   "cell_type": "markdown",
   "id": "bee8da7d-60d6-4a6f-aeb4-6e6e434aa772",
   "metadata": {},
   "source": [
    "### Page 114: 9-1 (As sample size increases, the power of a hypothesis test increases, which means it is more likely to be positive if the effect is real…)\n",
    "…)\n",
    "\n",
    "    Exercise: As sample size increases, the power of a hypothesis test increases, which means it is more likely to be positive if the effect is real. Conversely, as sample size decreases, the test is less likely to be positive even if the effect is real.\n",
    "\n",
    "    To investigate this behavior, run the tests in this chapter with different subsets of the NSFG data. You can use thinkstats2.SampleRows to select a random subset of the rows in a DataFrame.\n",
    "\n",
    "    What happens to the p-values of these tests as sample size decreases? What is the smallest sample size that yields a positive test?"
   ]
  },
  {
   "cell_type": "code",
   "execution_count": 33,
   "id": "84623340-b045-47d0-9d7a-de7720f40f0a",
   "metadata": {},
   "outputs": [],
   "source": [
    "class DiffMeansPermute(thinkstats2.HypothesisTest):\n",
    "\n",
    "    def TestStatistic(self, data):\n",
    "        group1, group2 = data\n",
    "        test_stat = abs(group1.mean() - group2.mean())\n",
    "        return test_stat\n",
    "    \n",
    "    def MakeModel(self):\n",
    "        group1, group2 = self.data\n",
    "        self.n, self.m = len(group1), len(group2)\n",
    "        self.pool = np.hstack((group1, group2))\n",
    "\n",
    "    def RunModel(self):\n",
    "        np.random.shuffle(self.pool)\n",
    "        data = self.pool[:self.n], self.pool[self.n:]\n",
    "        return data"
   ]
  },
  {
   "cell_type": "code",
   "execution_count": 34,
   "id": "57446bba-3916-457d-a85f-9ff800e49a51",
   "metadata": {},
   "outputs": [],
   "source": [
    "class DiffStdPermute(DiffMeansPermute):\n",
    "\n",
    "    def TestStatistic(self, data):\n",
    "        group1, group2 = data\n",
    "        test_stat = group1.std() - group2.std()\n",
    "        return test_stat"
   ]
  },
  {
   "cell_type": "code",
   "execution_count": 35,
   "id": "a963cb58-56f1-46de-8150-700e03040a0b",
   "metadata": {},
   "outputs": [],
   "source": [
    "class DiffChisquaredPermute(thinkstats2.HypothesisTest):\n",
    "\n",
    "    def TestStatistic(self, data):\n",
    "        firsts, others = data\n",
    "        stat = self.ChiSquared(firsts) + self.ChiSquared(others)\n",
    "        return stat\n",
    "    \n",
    "    def ChiSquared(self, lengths):\n",
    "        hist = thinkstats2.Hist(lengths)\n",
    "        observed = np.array(hist.Freqs(self.values))\n",
    "        expected = self.expected_probs * len(lengths)\n",
    "        stat = sum((observed - expected)**2 / expected)\n",
    "        return stat\n",
    "    \n",
    "    def MakeModel(self):\n",
    "        firsts, others = self.data\n",
    "        self.n = len(firsts)\n",
    "        self.pool = np.hstack((firsts, others))\n",
    "\n",
    "        pmf = thinkstats2.Pmf(self.pool)\n",
    "        self.values = range(35, 44)\n",
    "        self.expected_probs = np.array(pmf.Probs(self.values))\n",
    "    \n",
    "    def RunModel(self):\n",
    "        xs, ys = self.data\n",
    "        xs = np.random.permutation(xs)\n",
    "        return xs, ys"
   ]
  },
  {
   "cell_type": "code",
   "execution_count": 36,
   "id": "c4adafbd-ff35-4e18-8ed9-794c407c4c57",
   "metadata": {},
   "outputs": [],
   "source": [
    "class DiffCorrelationPermute(thinkstats2.HypothesisTest):\n",
    "\n",
    "    def TestStatistic(self, data):\n",
    "        xs, ys = data\n",
    "        test_stat = abs(thinkstats2.Corr(xs, ys))\n",
    "        return test_stat\n",
    "    \n",
    "    \n",
    "    def RunModel(self):\n",
    "        xs, ys = self.data\n",
    "        xs = np.random.permutation(xs)\n",
    "        return xs, ys"
   ]
  },
  {
   "cell_type": "code",
   "execution_count": 37,
   "id": "d98549ee-3aff-4e55-8b77-0c1102becbcc",
   "metadata": {},
   "outputs": [],
   "source": [
    "# importing the NSFG data\n",
    "import first\n",
    "## Populating 3 dataframes from the NSFG file\n",
    "live,first_birth,other_birth = first.MakeFrames()\n"
   ]
  },
  {
   "cell_type": "code",
   "execution_count": 38,
   "id": "96e461d1-acea-4de9-9253-0c4dd4da616b",
   "metadata": {
    "tags": []
   },
   "outputs": [
    {
     "name": "stdout",
     "output_type": "stream",
     "text": [
      "==============================================\n",
      "sample\tpmean\tpchi-sq\tpstd\tpcorr\n",
      "==============================================\n",
      "9148\t0.16\t1.00\t0.07\t0.00\t\n",
      "4574\t0.20\t1.00\t0.26\t0.00\t\n",
      "2287\t0.24\t1.00\t0.05\t0.00\t\n",
      "1143\t0.73\t1.00\t0.00\t0.00\t\n",
      "571\t0.91\t1.00\t0.16\t0.00\t\n",
      "285\t0.57\t1.00\t0.03\t0.00\t\n",
      "142\t0.60\t1.00\t0.03\t0.00\t\n",
      "==============================================\n"
     ]
    }
   ],
   "source": [
    "def run_sample(sample, iters=1000):\n",
    "    \n",
    "    n = len(sample)\n",
    "    firsts = sample[sample.birthord == 1]\n",
    "    others = sample[sample.birthord != 1]\n",
    "    \n",
    "    ## Statitics is the difference in the mean pregnancy lengths for first and other births   \n",
    "    data = firsts.prglngth.values, others.prglngth.values\n",
    "    Null_ht_mean = DiffMeansPermute(data)\n",
    "    p_mean = Null_ht_mean.PValue(iters = iters)\n",
    "\n",
    "    ## Difference in the chi-squared lengths of pregnancies for first and other births   \n",
    "    data = firsts.prglngth.values, others.prglngth.values\n",
    "    Null_ht_chisq = DiffChisquaredPermute(data)\n",
    "    p_chisq = Null_ht_chisq.PValue(iters = iters)\n",
    "\n",
    "    \n",
    "    \n",
    "    ## Statitics is the difference in the standard deviation\n",
    "    ## Null hypothesis is that the std is higher for first babies\n",
    "    data = firsts.prglngth.values, others.prglngth.values\n",
    "    Null_ht_sd = DiffStdPermute(data)\n",
    "    p_std = Null_ht_sd.PValue(iters = iters)\n",
    "\n",
    "    ## Null hypothesis is that there is no correlation between mother's weight and child's birth weight\n",
    "    ## Test STatistics used here is Pearson's correlation\n",
    "    ## We will be doing a two sided test\n",
    "    live_sample = live.dropna(subset=['agepreg', 'totalwgt_lb'])\n",
    "    data = live_sample.agepreg.values, live_sample.totalwgt_lb.values\n",
    "    Null_ht_corr = DiffCorrelationPermute(data)\n",
    "    p_corr = Null_ht_corr.PValue(iters = iters)    \n",
    "  \n",
    "    \n",
    "    print ('%d\\t%0.2f\\t%0.2f\\t%0.2f\\t%0.2f\\t' % (n,p_mean, p_chisq, p_std,p_corr ))\n",
    "    # print(Null_ht_corr.actual, Null_ht_corr.MaxTestStat())\n",
    "    # print(Null_ht_chisq.actual, Null_ht_chisq.MaxTestStat())\n",
    "# looping through the sample\n",
    "print('==============================================')\n",
    "print('sample\\tpmean\\tpchi-sq\\tpstd\\tpcorr')\n",
    "print('==============================================')\n",
    "n = len(live)\n",
    "for _ in range(7):\n",
    "    sample = thinkstats2.SampleRows(live, n)\n",
    "    run_sample(sample)\n",
    "    n //= 2\n",
    "\n",
    "print('==============================================')"
   ]
  },
  {
   "cell_type": "code",
   "execution_count": 39,
   "id": "f97735c0-15ed-4f67-964a-c4c75fa98d1f",
   "metadata": {},
   "outputs": [],
   "source": [
    "def RunTests(live, iters=1000):\n",
    "    \"\"\"Runs the tests from Chapter 9 with a subset of the data.\n",
    "\n",
    "    live: DataFrame\n",
    "    iters: how many iterations to run\n",
    "    \"\"\"\n",
    "    n = len(live)\n",
    "    firsts = live[live.birthord == 1]\n",
    "    others = live[live.birthord != 1]\n",
    "\n",
    "    # compare pregnancy lengths\n",
    "    data = firsts.prglngth.values, others.prglngth.values\n",
    "    ht = hypothesis.DiffMeansPermute(data) # difference in means by permutation\n",
    "    p1 = ht.PValue(iters=iters)            # Get the p-value\n",
    "\n",
    "    # test correlation\n",
    "    live2 = live.dropna(subset=['agepreg', 'totalwgt_lb'])\n",
    "    data = live2.agepreg.values, live2.totalwgt_lb.values\n",
    "    ht = hypothesis.CorrelationPermute(data)  # correlations by permutation\n",
    "    p3 = ht.PValue(iters=iters)               # Get the p-value\n",
    "    \n",
    "\n",
    "    print('%d\\t%0.2f\\t%0.2f' % (n, p1, p3))"
   ]
  },
  {
   "cell_type": "code",
   "execution_count": 40,
   "id": "e864d89a-6247-46cf-8596-b6f229132ae4",
   "metadata": {},
   "outputs": [
    {
     "name": "stdout",
     "output_type": "stream",
     "text": [
      "n\tP_Len\tCorr\n",
      "9148\t0.16\t0.00\n",
      "4574\t0.63\t0.00\n",
      "2287\t0.55\t0.00\n",
      "1143\t0.25\t0.00\n",
      "571\t0.29\t0.10\n",
      "285\t0.55\t0.01\n",
      "142\t0.36\t0.63\n"
     ]
    }
   ],
   "source": [
    "\n",
    "thinkstats2.RandomSeed(18)\n",
    "\n",
    "live, firsts, others = first.MakeFrames()\n",
    "\n",
    "print('n\\tP_Len\\tCorr')\n",
    "n = len(live)\n",
    "for _ in range(7):      # iterate 7 times\n",
    "    sample = thinkstats2.SampleRows(live, n)\n",
    "    RunTests(sample)\n",
    "    n //= 2"
   ]
  },
  {
   "cell_type": "markdown",
   "id": "800f31e4-6728-4b55-9252-0412a4335451",
   "metadata": {},
   "source": [
    "Correlation Test:\n",
    "reported p-value is 0 out of a 1000 trials, there did not seem to be correlation \n",
    "\n",
    "Chi-squared:\n",
    "p-value is says 1 for entire population because the actual value is > 1 which is statistically relevant\n",
    "\n",
    "Mean and Stanard Deviations:\n",
    "mean and standard deviations are erratic\n",
    "\n",
    "P-values are shown above for corresponding sample size,n :\n",
    "P_Len - Difference in mean pregnancy length\n",
    "Corr - Correlation between mother's age and birth weight\n",
    "\n",
    "Shown above here are the outccome of 2 tests we can clearly see that, power of hypothesis increases with size of sample. Test is positive with large sample size.\n",
    "\n",
    "In this test, smallest size is '285' which yields positive test"
   ]
  },
  {
   "cell_type": "markdown",
   "id": "2b979f46-5e0e-4974-ad82-3e34c8b3eacc",
   "metadata": {},
   "source": [
    "### mPage 128: 10-1 (Using the data from the BRFSS, compute the linear least squares fit for log(weight) versus height\n",
    "\n",
    "    Using the data from the BRFSS, compute the linear least squares fit for log(weight) versus height. \n",
    "    How would you best present the estimated parameters for a model like this where one of the variables is log- transformed? \n",
    "    If you were trying to guess someone’s weight, how much would it help to know their height?\n",
    "    Like the NSFG, the BRFSS oversamples some groups and provides a sampling weight for each respondent.\n",
    "    In the BRFSS data, the variable name for these weights is finalwt. Use resampling, with and without weights, to estimate the mean height of respondents in the BRFSS, the standard error of the mean, and a 90% confidence interval. \n",
    "    How much does correct weighting affect the estimates?"
   ]
  },
  {
   "cell_type": "code",
   "execution_count": 10,
   "id": "645e022e-2835-4eba-abde-bc2ef429f87d",
   "metadata": {},
   "outputs": [],
   "source": [
    "download(\"https://github.com/AllenDowney/ThinkStats2/raw/master/code/brfss.py\")\n",
    "download(\"https://github.com/AllenDowney/ThinkStats2/raw/master/code/CDBRFS08.ASC.gz\")\n",
    "\n",
    "import brfss\n",
    "import thinkplot"
   ]
  },
  {
   "cell_type": "code",
   "execution_count": 11,
   "id": "ea06b165-9208-4e45-b0d1-306bd8bd74c8",
   "metadata": {},
   "outputs": [],
   "source": [
    "df = brfss.ReadBrfss(nrows=None)\n",
    "df = df.dropna(subset=['htm3', 'wtkg2'])\n",
    "heights, weights = df.htm3, df.wtkg2\n",
    "weights = np.log10(weights)"
   ]
  },
  {
   "cell_type": "code",
   "execution_count": 12,
   "id": "fc6a6ca3-4a69-44c3-a629-63f9e5693117",
   "metadata": {},
   "outputs": [
    {
     "data": {
      "text/plain": [
       "(0.9930804163917974, 0.005281454169417895)"
      ]
     },
     "execution_count": 12,
     "metadata": {},
     "output_type": "execute_result"
    }
   ],
   "source": [
    "inter, slope = thinkstats2.LeastSquares(heights, weights)\n",
    "inter, slope"
   ]
  },
  {
   "cell_type": "code",
   "execution_count": 13,
   "id": "e2e72d25-6ac4-4940-9cba-1f882c461bcf",
   "metadata": {},
   "outputs": [
    {
     "data": {
      "image/png": "[encoded data removed]",
      "text/plain": [
       "<Figure size 432x288 with 1 Axes>"
      ]
     },
     "metadata": {
      "needs_background": "light"
     },
     "output_type": "display_data"
    }
   ],
   "source": [
    "thinkplot.Scatter(heights, weights, alpha=0.01)\n",
    "fxs, fys = thinkstats2.FitLine(heights, inter, slope)\n",
    "thinkplot.Plot(fxs, fys)\n",
    "thinkplot.Config(xlabel='height (cm)', ylabel='log10 weight (kg)', legend=False)"
   ]
  },
  {
   "cell_type": "code",
   "execution_count": 14,
   "id": "8bc8d68d-8a2e-4087-8d9f-cb9d8f655dd6",
   "metadata": {},
   "outputs": [
    {
     "data": {
      "image/png": "[encoded data removed]",
      "text/plain": [
       "<Figure size 432x288 with 1 Axes>"
      ]
     },
     "metadata": {
      "needs_background": "light"
     },
     "output_type": "display_data"
    }
   ],
   "source": [
    "thinkplot.Scatter(heights, 10**weights, alpha=0.01)\n",
    "fxs, fys = thinkstats2.FitLine(heights, inter, slope)\n",
    "thinkplot.Plot(fxs, 10**fys)\n",
    "thinkplot.Config(xlabel='height (cm)', ylabel='weight (kg)', legend=False)"
   ]
  },
  {
   "cell_type": "code",
   "execution_count": 15,
   "id": "01ab1d39-2217-49f1-ad07-77feb3adda41",
   "metadata": {},
   "outputs": [
    {
     "data": {
      "image/png": "[encoded data removed]",
      "text/plain": [
       "<Figure size 432x288 with 1 Axes>"
      ]
     },
     "metadata": {
      "needs_background": "light"
     },
     "output_type": "display_data"
    }
   ],
   "source": [
    "res = thinkstats2.Residuals(heights, weights, inter, slope)\n",
    "df['residual'] = res\n",
    "\n",
    "bins = np.arange(130, 210, 5)\n",
    "indices = np.digitize(df.htm3, bins)\n",
    "groups = df.groupby(indices)\n",
    "\n",
    "means = [group.htm3.mean() for i, group in groups][1:-1]\n",
    "cdfs = [thinkstats2.Cdf(group.residual) for i, group in groups][1:-1]\n",
    "\n",
    "thinkplot.PrePlot(3)\n",
    "for percent in [75, 50, 25]:\n",
    "    ys = [cdf.Percentile(percent) for cdf in cdfs]\n",
    "    label = '%dth' % percent\n",
    "    thinkplot.Plot(means, ys, label=label)\n",
    "    \n",
    "thinkplot.Config(xlabel='height (cm)', ylabel='residual weight (kg)', legend=False)"
   ]
  },
  {
   "cell_type": "code",
   "execution_count": 16,
   "id": "d51096de-3ddc-4d5e-90be-37a94a979095",
   "metadata": {},
   "outputs": [
    {
     "data": {
      "text/plain": [
       "0.5317282605983519"
      ]
     },
     "execution_count": 16,
     "metadata": {},
     "output_type": "execute_result"
    }
   ],
   "source": [
    "#Compute correlation\n",
    "\n",
    "rho= thinkstats2.Corr(heights,weights)\n",
    "rho"
   ]
  },
  {
   "cell_type": "code",
   "execution_count": 17,
   "id": "3f98e72c-1888-4ffe-8ee8-abea90a70cc9",
   "metadata": {},
   "outputs": [
    {
     "data": {
      "text/plain": [
       "0.28273494311893377"
      ]
     },
     "execution_count": 17,
     "metadata": {},
     "output_type": "execute_result"
    }
   ],
   "source": [
    "#Compute coefficent of determination\n",
    "r2 = thinkstats2.CoefDetermination(weights,res)\n",
    "r2"
   ]
  },
  {
   "cell_type": "code",
   "execution_count": 18,
   "id": "852d6cbe-ccd3-40dd-9f1d-9f178409dd09",
   "metadata": {},
   "outputs": [
    {
     "data": {
      "text/plain": [
       "1.504352198367087e-14"
      ]
     },
     "execution_count": 18,
     "metadata": {},
     "output_type": "execute_result"
    }
   ],
   "source": [
    "#confirm R^2 = p^2\n",
    "\n",
    "rho**2 -r2"
   ]
  },
  {
   "cell_type": "code",
   "execution_count": 19,
   "id": "c3b00d90-0a24-404e-88a9-a44d4c3e8a3d",
   "metadata": {},
   "outputs": [
    {
     "data": {
      "text/plain": [
       "0.10320725030004854"
      ]
     },
     "execution_count": 19,
     "metadata": {},
     "output_type": "execute_result"
    }
   ],
   "source": [
    "#Compute Std(ys), which is the RMSE of predictions that don't use height.\n",
    "\n",
    "std_ys = thinkstats2.Std(weights)\n",
    "std_ys"
   ]
  },
  {
   "cell_type": "code",
   "execution_count": 20,
   "id": "51961c24-dce2-41cf-b254-9d6237efc8c6",
   "metadata": {},
   "outputs": [
    {
     "data": {
      "text/plain": [
       "0.08740777080416093"
      ]
     },
     "execution_count": 20,
     "metadata": {},
     "output_type": "execute_result"
    }
   ],
   "source": [
    "#Compute Std(res), the RMSE of predictions that do use height.\n",
    "\n",
    "std_res = thinkstats2.Std(res)\n",
    "std_res"
   ]
  },
  {
   "cell_type": "code",
   "execution_count": 21,
   "id": "359bde2b-9531-4be3-9cc4-aad511b6e240",
   "metadata": {},
   "outputs": [
    {
     "data": {
      "text/plain": [
       "0.15308497658793052"
      ]
     },
     "execution_count": 21,
     "metadata": {},
     "output_type": "execute_result"
    }
   ],
   "source": [
    "#How much does height information reduce RMSE? About 15%.\n",
    "\n",
    "1 - std_res / std_ys"
   ]
  },
  {
   "cell_type": "code",
   "execution_count": 22,
   "id": "b0401fc7-df61-42ef-95b0-be881b819422",
   "metadata": {},
   "outputs": [],
   "source": [
    "#Use resampling to compute sampling distributions for inter and slope.\n",
    "\n",
    "t = []\n",
    "for _ in range(100):\n",
    "    sample = thinkstats2.ResampleRows(df)\n",
    "    estimates = thinkstats2.LeastSquares(sample.htm3, np.log10(sample.wtkg2))\n",
    "    t.append(estimates)\n",
    "\n",
    "inters, slopes = zip(*t)"
   ]
  },
  {
   "cell_type": "code",
   "execution_count": 23,
   "id": "4dd294cd-7d66-43d9-b46b-edd2cae96c14",
   "metadata": {},
   "outputs": [
    {
     "data": {
      "text/plain": [
       "{'xscale': 'linear', 'yscale': 'linear'}"
      ]
     },
     "execution_count": 23,
     "metadata": {},
     "output_type": "execute_result"
    },
    {
     "data": {
      "image/png": "[encoded data removed]",
      "text/plain": [
       "<Figure size 432x288 with 1 Axes>"
      ]
     },
     "metadata": {
      "needs_background": "light"
     },
     "output_type": "display_data"
    }
   ],
   "source": [
    "#Plot the sampling distribution of slope.\n",
    "\n",
    "cdf = thinkstats2.Cdf(slopes)\n",
    "thinkplot.Cdf(cdf)"
   ]
  },
  {
   "cell_type": "code",
   "execution_count": 24,
   "id": "f80d11d7-cce6-480f-ba93-3bad06f19c34",
   "metadata": {},
   "outputs": [
    {
     "data": {
      "text/plain": [
       "0"
      ]
     },
     "execution_count": 24,
     "metadata": {},
     "output_type": "execute_result"
    }
   ],
   "source": [
    "#Compute the p-value of the slope.\n",
    "\n",
    "pvalue = cdf[0]\n",
    "pvalue"
   ]
  },
  {
   "cell_type": "code",
   "execution_count": 25,
   "id": "80d72e30-3b42-454b-a444-be2daafd56c4",
   "metadata": {},
   "outputs": [
    {
     "data": {
      "text/plain": [
       "(0.00525978765621157, 0.0053049664861315494)"
      ]
     },
     "execution_count": 25,
     "metadata": {},
     "output_type": "execute_result"
    }
   ],
   "source": [
    "#Compute the 90% confidence interval of slope.\n",
    "\n",
    "ci = cdf.Percentile(5), cdf.Percentile(95)\n",
    "ci"
   ]
  },
  {
   "cell_type": "code",
   "execution_count": 26,
   "id": "9599d37f-57f7-40e5-9ad4-da784845207f",
   "metadata": {},
   "outputs": [
    {
     "data": {
      "text/plain": [
       "0.0052823278966408795"
      ]
     },
     "execution_count": 26,
     "metadata": {},
     "output_type": "execute_result"
    }
   ],
   "source": [
    "#Compute the mean of the sampling distribution.\n",
    "\n",
    "mean = thinkstats2.Mean(slopes)\n",
    "mean"
   ]
  },
  {
   "cell_type": "code",
   "execution_count": 27,
   "id": "a09cc488-c33c-4253-b36d-583025c50e5c",
   "metadata": {},
   "outputs": [
    {
     "data": {
      "text/plain": [
       "1.409350540995795e-05"
      ]
     },
     "execution_count": 27,
     "metadata": {},
     "output_type": "execute_result"
    }
   ],
   "source": [
    "#Compute the standard deviation of the sampling distribution, which is the standard error.\n",
    "\n",
    "stderr = thinkstats2.Std(slopes)\n",
    "stderr"
   ]
  },
  {
   "cell_type": "code",
   "execution_count": 28,
   "id": "512ad7bd-8e48-4020-bc18-88588ffeae71",
   "metadata": {},
   "outputs": [],
   "source": [
    "\n",
    "#Resample using sampling weights\n",
    "\n",
    "def ResampleRowsWeighted(df, column='finalwt'):\n",
    "    \"\"\"Resamples a DataFrame using probabilities proportional to given column.\n",
    "\n",
    "    df: DataFrame\n",
    "    column: string column name to use as weights\n",
    "\n",
    "    returns: DataFrame\n",
    "    \"\"\"\n",
    "    weights = df[column]\n",
    "    cdf = thinkstats2.Cdf(dict(weights))\n",
    "    indices = cdf.Sample(len(weights))\n",
    "    sample = df.loc[indices]\n",
    "    return sample\n",
    "\n"
   ]
  },
  {
   "cell_type": "code",
   "execution_count": 29,
   "id": "005dac85-95b7-4a97-a104-0be1add4a916",
   "metadata": {},
   "outputs": [],
   "source": [
    "#Summarize a sampling distribution.\n",
    "\n",
    "def Summarize(estimates):\n",
    "    mean = thinkstats2.Mean(estimates)\n",
    "    stderr = thinkstats2.Std(estimates)\n",
    "    cdf = thinkstats2.Cdf(estimates)\n",
    "    ci = cdf.Percentile(5), cdf.Percentile(95)\n",
    "    print('mean', mean)\n",
    "    print('stderr', stderr)\n",
    "    print('ci', ci)"
   ]
  },
  {
   "cell_type": "code",
   "execution_count": 30,
   "id": "77f88750-be2b-447a-b998-615a4fcc8f46",
   "metadata": {},
   "outputs": [
    {
     "name": "stdout",
     "output_type": "stream",
     "text": [
      "mean 168.95576282362214\n",
      "stderr 0.0179049517521518\n",
      "ci (168.92562501263163, 168.98690606115727)\n"
     ]
    }
   ],
   "source": [
    "#Resample rows without weights, and summarize results.\n",
    "\n",
    "estimates_unweighted = [thinkstats2.ResampleRows(df).htm3.mean() for _ in range(100)]\n",
    "Summarize(estimates_unweighted)"
   ]
  },
  {
   "cell_type": "code",
   "execution_count": 31,
   "id": "08d1714f-e423-49ce-b9c2-c04befac0261",
   "metadata": {},
   "outputs": [
    {
     "name": "stdout",
     "output_type": "stream",
     "text": [
      "mean 170.49713322823823\n",
      "stderr 0.018811726337470882\n",
      "ci (170.46224408334848, 170.52747377675377)\n"
     ]
    }
   ],
   "source": [
    "#Resample rows with weights. The estimated mean height is almost 2 cm taller if we take into account the sampling weights, and this difference is much bigger than the sampling error.\n",
    "\n",
    "estimates_weighted = [ResampleRowsWeighted(df).htm3.mean() for _ in range(100)]\n",
    "Summarize(estimates_weighted)"
   ]
  },
  {
   "cell_type": "code",
   "execution_count": null,
   "id": "bb60cdec-67e5-4a31-b95a-9527c5152aa1",
   "metadata": {},
   "outputs": [],
   "source": []
  }
 ],
 "metadata": {
  "kernelspec": {
   "display_name": "Python 3 (ipykernel)",
   "language": "python",
   "name": "python3"
  },
  "language_info": {
   "codemirror_mode": {
    "name": "ipython",
    "version": 3
   },
   "file_extension": ".py",
   "mimetype": "text/x-python",
   "name": "python",
   "nbconvert_exporter": "python",
   "pygments_lexer": "ipython3",
   "version": "3.9.7"
  }
 },
 "nbformat": 4,
 "nbformat_minor": 5
}
