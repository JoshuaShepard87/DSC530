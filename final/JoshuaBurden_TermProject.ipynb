{
 "cells": [
  {
   "cell_type": "markdown",
   "id": "3da16594-2319-4215-9f85-fa35eb88f12b",
   "metadata": {},
   "source": [
    "# Milestone 5\n",
    "\n",
    "- Joshua Burden\n",
    "- Bellevue University\n",
    "- DSC530 \n",
    "- Cathrine Williams\n",
    "- 08/11/2022\n",
    "\n"
   ]
  },
  {
   "cell_type": "markdown",
   "id": "7dfb0760-a541-41c2-a812-048078b6fe95",
   "metadata": {},
   "source": [
    "- Your dataset\n",
    "- A PowerPoint presentation outlining your statistical question/hypothesis\n",
    "- A minimum of 5 variables in your dataset used during your analysis (for help with selecting, the author made his selection on page 6 of your book). Consider what you think could have an impact on your question – remember this is never perfect, so don’t be worried if you miss one (Chapter 1).\n",
    "- Describe what the 5 variables mean in the dataset (Chapter 1).\n",
    "- Include a histogram of each of the 5 variables – in your summary and analysis, identify any outliers and explain the reasoning for them being outliers and how you believe they should be handled (Chapter 2).\n",
    "- Include the other descriptive characteristics about the variables: Mean, Mode, Spread, and Tails (Chapter 2).\n",
    "- Using pg. 29 of your text as an example, compare two scenarios in your data using a PMF. Reminder, this isn’t comparing two variables against each other – it is the same variable, but a different scenario. Almost like a filter. The example in the book is first babies compared to all other babies, it is still the same variable, but breaking the data out based on criteria we are exploring (Chapter 3).\n",
    "- Create 1 CDF with one of your variables, using page 41-44 as your guide, what does this tell you about your variable and how does it address the question you are trying to answer (Chapter 4).\n",
    "- Plot 1 analytical distribution and provide your analysis on how it applies to the dataset you have chosen (Chapter 5).\n",
    "- Create two scatter plots comparing two variables and provide your analysis on correlation and causation. Remember, covariance, Pearson’s correlation, and Non-Linear Relationships should also be considered during your analysis (Chapter 7).\n",
    "- Conduct a test on your hypothesis using one of the methods covered in Chapter 9.\n",
    "- For this project, conduct a regression analysis on either one dependent and one explanatory variable, or multiple explanatory variables (Chapter 10 & 11).\n",
    "- Your code or screenshots of your code\n",
    "- A 250-500-word paper summarizing the following: Statistical/Hypothetical Question\n",
    "- Outcome of your EDA\n",
    "- What do you feel was missed during the analysis?\n",
    "- Were there any variables you felt could have helped in the analysis?\n",
    "- Were there any assumptions made you felt were incorrect?\n",
    "- What challenges did you face, what did you not fully understand?\n",
    "- Submit a link to your repository to the assignment link during the final week of class.m"
   ]
  },
  {
   "cell_type": "code",
   "execution_count": 48,
   "id": "ec3d6337-823b-4bed-b79b-20fd3273665b",
   "metadata": {},
   "outputs": [
    {
     "name": "stdout",
     "output_type": "stream",
     "text": [
      "Downloaded thinkstats2.py\n",
      "Downloaded thinkplot.py\n"
     ]
    }
   ],
   "source": [
    "from __future__ import print_function, division\n",
    "\n",
    "from os.path import basename, exists\n",
    "\n",
    "%matplotlib inline\n",
    "\n",
    "\n",
    "\n",
    "\n",
    "def download(url):\n",
    "    filename = basename(url)\n",
    "    if not exists(filename):\n",
    "        from urllib.request import urlretrieve\n",
    "\n",
    "        local, _ = urlretrieve(url, filename)\n",
    "        print(\"Downloaded \" + local)\n",
    "\n",
    "\n",
    "download(\"https://github.com/AllenDowney/ThinkStats2/raw/master/code/thinkstats2.py\")\n",
    "download(\"https://github.com/AllenDowney/ThinkStats2/raw/master/code/thinkplot.py\")"
   ]
  },
  {
   "cell_type": "code",
   "execution_count": 49,
   "id": "880bd45e-f941-4663-ab37-20eb2f458911",
   "metadata": {},
   "outputs": [],
   "source": [
    "#importing necessary librarires\n",
    "import numpy as np #import numpy as np\n",
    "import pandas as pd #import pandas as pd\n",
    "from collections import Counter #import collections module\n",
    "import matplotlib.pyplot as plt #import matplotlib\n",
    "import statsmodels.formula.api as smf #import statsmodels\n",
    "%matplotlib inline\n",
    "import sys\n",
    "import seaborn as sns #import seaborn module\n",
    "from scipy import stats #import scipy module\n",
    "import thinkstats2 #import thinkstats2 module\n",
    "import thinkplot #import thinkplot module\n",
    "import scipy.stats\n",
    "from scipy import stats #import sipy and stats module\n",
    "from sklearn.linear_model import LinearRegression #import sklearn module for models\n",
    "from sklearn.metrics import r2_score"
   ]
  },
  {
   "cell_type": "code",
   "execution_count": 10,
   "id": "14b88df2-e984-4a95-a283-39ad0796b49c",
   "metadata": {},
   "outputs": [
    {
     "data": {
      "text/html": [
       "<div>\n",
       "<style scoped>\n",
       "    .dataframe tbody tr th:only-of-type {\n",
       "        vertical-align: middle;\n",
       "    }\n",
       "\n",
       "    .dataframe tbody tr th {\n",
       "        vertical-align: top;\n",
       "    }\n",
       "\n",
       "    .dataframe thead th {\n",
       "        text-align: right;\n",
       "    }\n",
       "</style>\n",
       "<table border=\"1\" class=\"dataframe\">\n",
       "  <thead>\n",
       "    <tr style=\"text-align: right;\">\n",
       "      <th></th>\n",
       "      <th>symboling</th>\n",
       "      <th>normalized-losses</th>\n",
       "      <th>make</th>\n",
       "      <th>fuel-type</th>\n",
       "      <th>aspiration</th>\n",
       "      <th>num-of-doors</th>\n",
       "      <th>body-style</th>\n",
       "      <th>drive-wheels</th>\n",
       "      <th>engine-location</th>\n",
       "      <th>wheel-base</th>\n",
       "      <th>...</th>\n",
       "      <th>engine-size</th>\n",
       "      <th>fuel-system</th>\n",
       "      <th>bore</th>\n",
       "      <th>stroke</th>\n",
       "      <th>compression-ratio</th>\n",
       "      <th>horsepower</th>\n",
       "      <th>peak-rpm</th>\n",
       "      <th>city-mpg</th>\n",
       "      <th>highway-mpg</th>\n",
       "      <th>price</th>\n",
       "    </tr>\n",
       "  </thead>\n",
       "  <tbody>\n",
       "    <tr>\n",
       "      <th>0</th>\n",
       "      <td>3</td>\n",
       "      <td>?</td>\n",
       "      <td>alfa-romero</td>\n",
       "      <td>gas</td>\n",
       "      <td>std</td>\n",
       "      <td>two</td>\n",
       "      <td>convertible</td>\n",
       "      <td>rwd</td>\n",
       "      <td>front</td>\n",
       "      <td>88.6</td>\n",
       "      <td>...</td>\n",
       "      <td>130</td>\n",
       "      <td>mpfi</td>\n",
       "      <td>3.47</td>\n",
       "      <td>2.68</td>\n",
       "      <td>9.0</td>\n",
       "      <td>111</td>\n",
       "      <td>5000</td>\n",
       "      <td>21</td>\n",
       "      <td>27</td>\n",
       "      <td>13495</td>\n",
       "    </tr>\n",
       "    <tr>\n",
       "      <th>1</th>\n",
       "      <td>3</td>\n",
       "      <td>?</td>\n",
       "      <td>alfa-romero</td>\n",
       "      <td>gas</td>\n",
       "      <td>std</td>\n",
       "      <td>two</td>\n",
       "      <td>convertible</td>\n",
       "      <td>rwd</td>\n",
       "      <td>front</td>\n",
       "      <td>88.6</td>\n",
       "      <td>...</td>\n",
       "      <td>130</td>\n",
       "      <td>mpfi</td>\n",
       "      <td>3.47</td>\n",
       "      <td>2.68</td>\n",
       "      <td>9.0</td>\n",
       "      <td>111</td>\n",
       "      <td>5000</td>\n",
       "      <td>21</td>\n",
       "      <td>27</td>\n",
       "      <td>16500</td>\n",
       "    </tr>\n",
       "    <tr>\n",
       "      <th>2</th>\n",
       "      <td>1</td>\n",
       "      <td>?</td>\n",
       "      <td>alfa-romero</td>\n",
       "      <td>gas</td>\n",
       "      <td>std</td>\n",
       "      <td>two</td>\n",
       "      <td>hatchback</td>\n",
       "      <td>rwd</td>\n",
       "      <td>front</td>\n",
       "      <td>94.5</td>\n",
       "      <td>...</td>\n",
       "      <td>152</td>\n",
       "      <td>mpfi</td>\n",
       "      <td>2.68</td>\n",
       "      <td>3.47</td>\n",
       "      <td>9.0</td>\n",
       "      <td>154</td>\n",
       "      <td>5000</td>\n",
       "      <td>19</td>\n",
       "      <td>26</td>\n",
       "      <td>16500</td>\n",
       "    </tr>\n",
       "    <tr>\n",
       "      <th>3</th>\n",
       "      <td>2</td>\n",
       "      <td>164</td>\n",
       "      <td>audi</td>\n",
       "      <td>gas</td>\n",
       "      <td>std</td>\n",
       "      <td>four</td>\n",
       "      <td>sedan</td>\n",
       "      <td>fwd</td>\n",
       "      <td>front</td>\n",
       "      <td>99.8</td>\n",
       "      <td>...</td>\n",
       "      <td>109</td>\n",
       "      <td>mpfi</td>\n",
       "      <td>3.19</td>\n",
       "      <td>3.4</td>\n",
       "      <td>10.0</td>\n",
       "      <td>102</td>\n",
       "      <td>5500</td>\n",
       "      <td>24</td>\n",
       "      <td>30</td>\n",
       "      <td>13950</td>\n",
       "    </tr>\n",
       "    <tr>\n",
       "      <th>4</th>\n",
       "      <td>2</td>\n",
       "      <td>164</td>\n",
       "      <td>audi</td>\n",
       "      <td>gas</td>\n",
       "      <td>std</td>\n",
       "      <td>four</td>\n",
       "      <td>sedan</td>\n",
       "      <td>4wd</td>\n",
       "      <td>front</td>\n",
       "      <td>99.4</td>\n",
       "      <td>...</td>\n",
       "      <td>136</td>\n",
       "      <td>mpfi</td>\n",
       "      <td>3.19</td>\n",
       "      <td>3.4</td>\n",
       "      <td>8.0</td>\n",
       "      <td>115</td>\n",
       "      <td>5500</td>\n",
       "      <td>18</td>\n",
       "      <td>22</td>\n",
       "      <td>17450</td>\n",
       "    </tr>\n",
       "  </tbody>\n",
       "</table>\n",
       "<p>5 rows × 26 columns</p>\n",
       "</div>"
      ],
      "text/plain": [
       "   symboling normalized-losses         make fuel-type aspiration num-of-doors  \\\n",
       "0          3                 ?  alfa-romero       gas        std          two   \n",
       "1          3                 ?  alfa-romero       gas        std          two   \n",
       "2          1                 ?  alfa-romero       gas        std          two   \n",
       "3          2               164         audi       gas        std         four   \n",
       "4          2               164         audi       gas        std         four   \n",
       "\n",
       "    body-style drive-wheels engine-location  wheel-base  ...  engine-size  \\\n",
       "0  convertible          rwd           front        88.6  ...          130   \n",
       "1  convertible          rwd           front        88.6  ...          130   \n",
       "2    hatchback          rwd           front        94.5  ...          152   \n",
       "3        sedan          fwd           front        99.8  ...          109   \n",
       "4        sedan          4wd           front        99.4  ...          136   \n",
       "\n",
       "   fuel-system  bore  stroke compression-ratio horsepower  peak-rpm city-mpg  \\\n",
       "0         mpfi  3.47    2.68               9.0        111      5000       21   \n",
       "1         mpfi  3.47    2.68               9.0        111      5000       21   \n",
       "2         mpfi  2.68    3.47               9.0        154      5000       19   \n",
       "3         mpfi  3.19     3.4              10.0        102      5500       24   \n",
       "4         mpfi  3.19     3.4               8.0        115      5500       18   \n",
       "\n",
       "  highway-mpg  price  \n",
       "0          27  13495  \n",
       "1          27  16500  \n",
       "2          26  16500  \n",
       "3          30  13950  \n",
       "4          22  17450  \n",
       "\n",
       "[5 rows x 26 columns]"
      ]
     },
     "execution_count": 10,
     "metadata": {},
     "output_type": "execute_result"
    }
   ],
   "source": [
    "data_df = pd.read_csv('Automobile_data.csv')\n",
    "data_df.head()"
   ]
  },
  {
   "cell_type": "code",
   "execution_count": 11,
   "id": "5d9779f1-4fd3-4ed5-9c89-57ee962026ed",
   "metadata": {},
   "outputs": [
    {
     "name": "stdout",
     "output_type": "stream",
     "text": [
      "<class 'pandas.core.frame.DataFrame'>\n",
      "RangeIndex: 205 entries, 0 to 204\n",
      "Data columns (total 26 columns):\n",
      " #   Column             Non-Null Count  Dtype  \n",
      "---  ------             --------------  -----  \n",
      " 0   symboling          205 non-null    int64  \n",
      " 1   normalized-losses  205 non-null    object \n",
      " 2   make               205 non-null    object \n",
      " 3   fuel-type          205 non-null    object \n",
      " 4   aspiration         205 non-null    object \n",
      " 5   num-of-doors       205 non-null    object \n",
      " 6   body-style         205 non-null    object \n",
      " 7   drive-wheels       205 non-null    object \n",
      " 8   engine-location    205 non-null    object \n",
      " 9   wheel-base         205 non-null    float64\n",
      " 10  length             205 non-null    float64\n",
      " 11  width              205 non-null    float64\n",
      " 12  height             205 non-null    float64\n",
      " 13  curb-weight        205 non-null    int64  \n",
      " 14  engine-type        205 non-null    object \n",
      " 15  num-of-cylinders   205 non-null    object \n",
      " 16  engine-size        205 non-null    int64  \n",
      " 17  fuel-system        205 non-null    object \n",
      " 18  bore               205 non-null    object \n",
      " 19  stroke             205 non-null    object \n",
      " 20  compression-ratio  205 non-null    float64\n",
      " 21  horsepower         205 non-null    object \n",
      " 22  peak-rpm           205 non-null    object \n",
      " 23  city-mpg           205 non-null    int64  \n",
      " 24  highway-mpg        205 non-null    int64  \n",
      " 25  price              205 non-null    object \n",
      "dtypes: float64(5), int64(5), object(16)\n",
      "memory usage: 41.8+ KB\n"
     ]
    }
   ],
   "source": [
    "data_df.info()"
   ]
  },
  {
   "cell_type": "code",
   "execution_count": 12,
   "id": "7d7d44ff-a117-47bc-b278-eb005e171e07",
   "metadata": {},
   "outputs": [
    {
     "data": {
      "text/plain": [
       "symboling            0\n",
       "normalized-losses    0\n",
       "make                 0\n",
       "fuel-type            0\n",
       "aspiration           0\n",
       "num-of-doors         0\n",
       "body-style           0\n",
       "drive-wheels         0\n",
       "engine-location      0\n",
       "wheel-base           0\n",
       "length               0\n",
       "width                0\n",
       "height               0\n",
       "curb-weight          0\n",
       "engine-type          0\n",
       "num-of-cylinders     0\n",
       "engine-size          0\n",
       "fuel-system          0\n",
       "bore                 0\n",
       "stroke               0\n",
       "compression-ratio    0\n",
       "horsepower           0\n",
       "peak-rpm             0\n",
       "city-mpg             0\n",
       "highway-mpg          0\n",
       "price                0\n",
       "dtype: int64"
      ]
     },
     "execution_count": 12,
     "metadata": {},
     "output_type": "execute_result"
    }
   ],
   "source": [
    "data_df.isnull().sum()"
   ]
  },
  {
   "cell_type": "code",
   "execution_count": 14,
   "id": "46495101-fe99-410a-84b3-fd1f6f95c2a1",
   "metadata": {},
   "outputs": [
    {
     "data": {
      "text/plain": [
       "4"
      ]
     },
     "execution_count": 14,
     "metadata": {},
     "output_type": "execute_result"
    }
   ],
   "source": [
    "data_df['bore'].loc[data_df['bore'] == '?'].count()"
   ]
  },
  {
   "cell_type": "code",
   "execution_count": 15,
   "id": "747fcfc5-94fc-4edc-b0e0-de74002d1bb8",
   "metadata": {},
   "outputs": [
    {
     "data": {
      "text/plain": [
       "0    122\n",
       "1    122\n",
       "2    122\n",
       "3    164\n",
       "4    164\n",
       "Name: normalized-losses, dtype: int64"
      ]
     },
     "execution_count": 15,
     "metadata": {},
     "output_type": "execute_result"
    }
   ],
   "source": [
    "df = data_df['normalized-losses'].loc[data_df['normalized-losses'] != '?'] #get non ? values in to a df\n",
    "dfMean = df.astype(str).astype(int).mean() #compute mean value of the df from above step\n",
    "data_df['normalized-losses'] = data_df['normalized-losses'].replace('?',dfMean).astype(int)#replace ? values with mean value calcuated above step\n",
    "data_df['normalized-losses'].head()"
   ]
  },
  {
   "cell_type": "code",
   "execution_count": 17,
   "id": "fc9c9b7e-2ea6-4241-939b-17bdc1d49f28",
   "metadata": {},
   "outputs": [
    {
     "data": {
      "text/plain": [
       "0    13495\n",
       "1    16500\n",
       "2    16500\n",
       "3    13950\n",
       "4    17450\n",
       "Name: price, dtype: int64"
      ]
     },
     "execution_count": 17,
     "metadata": {},
     "output_type": "execute_result"
    }
   ],
   "source": [
    "data_df_price = data_df['price'].loc[data_df['price'] != '?']#get non ? values in to a df\n",
    "data_df_pricemean = data_df_price.astype(str).astype(int).mean()  #compute mean value of the df from above step\n",
    "data_df['price'] = data_df['price'].replace('?',data_df_pricemean).astype(int)#replace ? values with mean value calcuated above step\n",
    "data_df['price'].head()"
   ]
  },
  {
   "cell_type": "code",
   "execution_count": 18,
   "id": "87184405-f2b3-4cd4-9f0b-bca2df8ebeb5",
   "metadata": {},
   "outputs": [
    {
     "data": {
      "text/plain": [
       "0    111\n",
       "1    111\n",
       "2    154\n",
       "3    102\n",
       "4    115\n",
       "Name: horsepower, dtype: int64"
      ]
     },
     "execution_count": 18,
     "metadata": {},
     "output_type": "execute_result"
    }
   ],
   "source": [
    "data_df_horsepower = data_df['horsepower'].loc[data_df['horsepower'] != '?']#get non ? values in to a df\n",
    "data_df_horsepoweremean = data_df_horsepower.astype(str).astype(int).mean()  #compute mean value of the df from above step\n",
    "data_df['horsepower'] = data_df['horsepower'].replace('?',data_df_horsepoweremean).astype(int)#replace ? values with mean value calcuated above step\n",
    "data_df['horsepower'].head()"
   ]
  },
  {
   "cell_type": "code",
   "execution_count": 19,
   "id": "b2c5f0d2-af2f-4269-845b-8ce7edf90a31",
   "metadata": {},
   "outputs": [
    {
     "data": {
      "text/plain": [
       "Series([], Name: num-of-doors, dtype: object)"
      ]
     },
     "execution_count": 19,
     "metadata": {},
     "output_type": "execute_result"
    }
   ],
   "source": [
    "data_df['num-of-doors'].loc[data_df['num-of-doors'] == '?'] #finding num-of-doors values that are not valid\n",
    "data_df = data_df[data_df['num-of-doors'] != '?']\n",
    "data_df['num-of-doors'].loc[data_df['num-of-doors'] == '?']"
   ]
  },
  {
   "cell_type": "code",
   "execution_count": 20,
   "id": "4f18d195-a197-4cdd-8826-695e373093af",
   "metadata": {},
   "outputs": [
    {
     "data": {
      "text/plain": [
       "55    ?\n",
       "56    ?\n",
       "57    ?\n",
       "58    ?\n",
       "Name: bore, dtype: object"
      ]
     },
     "execution_count": 20,
     "metadata": {},
     "output_type": "execute_result"
    }
   ],
   "source": [
    "data_df['bore'].loc[data_df['bore'] == '?']"
   ]
  },
  {
   "cell_type": "code",
   "execution_count": 27,
   "id": "282d4904-0814-4d94-af79-ecf7fa2ade8e",
   "metadata": {},
   "outputs": [
    {
     "data": {
      "text/plain": [
       "Series([], Name: num-of-doors, dtype: object)"
      ]
     },
     "execution_count": 27,
     "metadata": {},
     "output_type": "execute_result"
    }
   ],
   "source": [
    "data_df_numdoors = data_df[data_df['num-of-doors'] != '?'] #finding num-of-doors with ? and replacing it will non ? value\n",
    "data_df['num-of-doors'].loc[data_df_numdoors['num-of-doors'] == '?']"
   ]
  },
  {
   "cell_type": "code",
   "execution_count": 28,
   "id": "399f95d4-f146-463c-a576-83784d73e2ab",
   "metadata": {},
   "outputs": [
    {
     "data": {
      "text/plain": [
       "0    3.47\n",
       "1    3.47\n",
       "2    2.68\n",
       "3    3.19\n",
       "4    3.19\n",
       "Name: bore, dtype: float64"
      ]
     },
     "execution_count": 28,
     "metadata": {},
     "output_type": "execute_result"
    }
   ],
   "source": [
    "data_df_Bore = data_df['bore'].loc[data_df['bore'] != '?']#get non ? values in to a df\n",
    "data_df_Boremean = data_df_Bore.astype(str).astype(float).mean()  #compute mean value of the df from above step\n",
    "data_df['bore'] = data_df['bore'].replace('?',data_df_Boremean).astype(float)#replace ? values with mean value calcuated above step\n",
    "data_df['bore'].head()"
   ]
  },
  {
   "cell_type": "code",
   "execution_count": 29,
   "id": "f7dda069-5fa5-4f09-8af5-35e9832afd84",
   "metadata": {},
   "outputs": [
    {
     "data": {
      "text/plain": [
       "Series([], Name: bore, dtype: float64)"
      ]
     },
     "execution_count": 29,
     "metadata": {},
     "output_type": "execute_result"
    }
   ],
   "source": [
    "data_df['bore'].loc[data_df['bore'] == '?']"
   ]
  },
  {
   "cell_type": "code",
   "execution_count": 30,
   "id": "e73cd815-e0ec-4408-8933-c305c401fcd3",
   "metadata": {},
   "outputs": [
    {
     "data": {
      "text/plain": [
       "symboling              int64\n",
       "normalized-losses      int64\n",
       "make                  object\n",
       "fuel-type             object\n",
       "aspiration            object\n",
       "num-of-doors          object\n",
       "body-style            object\n",
       "drive-wheels          object\n",
       "engine-location       object\n",
       "wheel-base           float64\n",
       "length               float64\n",
       "width                float64\n",
       "height               float64\n",
       "curb-weight            int64\n",
       "engine-type           object\n",
       "num-of-cylinders      object\n",
       "engine-size            int64\n",
       "fuel-system           object\n",
       "bore                 float64\n",
       "stroke                object\n",
       "compression-ratio    float64\n",
       "horsepower             int64\n",
       "peak-rpm              object\n",
       "city-mpg               int64\n",
       "highway-mpg            int64\n",
       "price                  int64\n",
       "dtype: object"
      ]
     },
     "execution_count": 30,
     "metadata": {},
     "output_type": "execute_result"
    }
   ],
   "source": [
    "data_df.dtypes"
   ]
  },
  {
   "cell_type": "code",
   "execution_count": 31,
   "id": "20b9e6c4-64d0-457c-966d-1bb91b1acf78",
   "metadata": {},
   "outputs": [],
   "source": [
    "data_df['bore'] = pd.to_numeric(data_df['bore'],errors='coerce')"
   ]
  },
  {
   "cell_type": "code",
   "execution_count": 32,
   "id": "68a71fef-550f-4b27-adc2-7d8075984df4",
   "metadata": {},
   "outputs": [
    {
     "data": {
      "text/plain": [
       "symboling              int64\n",
       "normalized-losses      int64\n",
       "make                  object\n",
       "fuel-type             object\n",
       "aspiration            object\n",
       "num-of-doors          object\n",
       "body-style            object\n",
       "drive-wheels          object\n",
       "engine-location       object\n",
       "wheel-base           float64\n",
       "length               float64\n",
       "width                float64\n",
       "height               float64\n",
       "curb-weight            int64\n",
       "engine-type           object\n",
       "num-of-cylinders      object\n",
       "engine-size            int64\n",
       "fuel-system           object\n",
       "bore                 float64\n",
       "stroke                object\n",
       "compression-ratio    float64\n",
       "horsepower             int64\n",
       "peak-rpm              object\n",
       "city-mpg               int64\n",
       "highway-mpg            int64\n",
       "price                  int64\n",
       "dtype: object"
      ]
     },
     "execution_count": 32,
     "metadata": {},
     "output_type": "execute_result"
    }
   ],
   "source": [
    "data_df.dtypes"
   ]
  },
  {
   "cell_type": "code",
   "execution_count": 33,
   "id": "e45a95ad-7086-459f-9a95-26011998d590",
   "metadata": {},
   "outputs": [
    {
     "data": {
      "text/plain": [
       "False    203\n",
       "dtype: int64"
      ]
     },
     "execution_count": 33,
     "metadata": {},
     "output_type": "execute_result"
    }
   ],
   "source": [
    "#checking for duplications in dataframe\n",
    "data_df.duplicated().value_counts()"
   ]
  },
  {
   "cell_type": "markdown",
   "id": "23e2c555-84b7-432e-b81d-864830b47d72",
   "metadata": {},
   "source": [
    "## Include the other descriptive characteristics about the variables: Mean, Mode, Spread, and Tails (Chapter 2)."
   ]
  },
  {
   "cell_type": "code",
   "execution_count": 35,
   "id": "67856425-e2de-4547-a004-944b0d17b3ba",
   "metadata": {},
   "outputs": [
    {
     "name": "stderr",
     "output_type": "stream",
     "text": [
      "/var/folders/ct/l8y_jb751b1ghqz7j4qhxv580000gn/T/ipykernel_24419/700068382.py:1: FutureWarning: Dropping of nuisance columns in DataFrame reductions (with 'numeric_only=None') is deprecated; in a future version this will raise TypeError.  Select only valid columns before calling the reduction.\n",
      "  data_df.median()\n"
     ]
    },
    {
     "data": {
      "text/plain": [
       "symboling                1.00\n",
       "normalized-losses      122.00\n",
       "wheel-base              97.00\n",
       "length                 173.20\n",
       "width                   65.50\n",
       "height                  54.10\n",
       "curb-weight           2414.00\n",
       "engine-size            120.00\n",
       "bore                     3.31\n",
       "compression-ratio        9.00\n",
       "horsepower              95.00\n",
       "city-mpg                24.00\n",
       "highway-mpg             30.00\n",
       "price                10595.00\n",
       "dtype: float64"
      ]
     },
     "execution_count": 35,
     "metadata": {},
     "output_type": "execute_result"
    }
   ],
   "source": [
    "data_df.median()\n"
   ]
  },
  {
   "cell_type": "code",
   "execution_count": 36,
   "id": "a383867b-c6d8-4f09-aa29-a02b980e6ac8",
   "metadata": {},
   "outputs": [
    {
     "name": "stderr",
     "output_type": "stream",
     "text": [
      "/var/folders/ct/l8y_jb751b1ghqz7j4qhxv580000gn/T/ipykernel_24419/3650157872.py:1: FutureWarning: Dropping of nuisance columns in DataFrame reductions (with 'numeric_only=None') is deprecated; in a future version this will raise TypeError.  Select only valid columns before calling the reduction.\n",
      "  data_df.mean()\n"
     ]
    },
    {
     "data": {
      "text/plain": [
       "symboling                0.837438\n",
       "normalized-losses      121.871921\n",
       "wheel-base              98.781281\n",
       "length                 174.113300\n",
       "width                   65.915271\n",
       "height                  53.731527\n",
       "curb-weight           2557.916256\n",
       "engine-size            127.073892\n",
       "bore                     3.330955\n",
       "compression-ratio       10.093202\n",
       "horsepower             104.463054\n",
       "city-mpg                25.172414\n",
       "highway-mpg             30.699507\n",
       "price                13241.911330\n",
       "dtype: float64"
      ]
     },
     "execution_count": 36,
     "metadata": {},
     "output_type": "execute_result"
    }
   ],
   "source": [
    "data_df.mean()"
   ]
  },
  {
   "cell_type": "code",
   "execution_count": 37,
   "id": "bb14024e-adc5-4dbd-9897-6eabb1e9c2f8",
   "metadata": {},
   "outputs": [
    {
     "data": {
      "text/html": [
       "<div>\n",
       "<style scoped>\n",
       "    .dataframe tbody tr th:only-of-type {\n",
       "        vertical-align: middle;\n",
       "    }\n",
       "\n",
       "    .dataframe tbody tr th {\n",
       "        vertical-align: top;\n",
       "    }\n",
       "\n",
       "    .dataframe thead th {\n",
       "        text-align: right;\n",
       "    }\n",
       "</style>\n",
       "<table border=\"1\" class=\"dataframe\">\n",
       "  <thead>\n",
       "    <tr style=\"text-align: right;\">\n",
       "      <th></th>\n",
       "      <th>symboling</th>\n",
       "      <th>normalized-losses</th>\n",
       "      <th>make</th>\n",
       "      <th>fuel-type</th>\n",
       "      <th>aspiration</th>\n",
       "      <th>num-of-doors</th>\n",
       "      <th>body-style</th>\n",
       "      <th>drive-wheels</th>\n",
       "      <th>engine-location</th>\n",
       "      <th>wheel-base</th>\n",
       "      <th>...</th>\n",
       "      <th>engine-size</th>\n",
       "      <th>fuel-system</th>\n",
       "      <th>bore</th>\n",
       "      <th>stroke</th>\n",
       "      <th>compression-ratio</th>\n",
       "      <th>horsepower</th>\n",
       "      <th>peak-rpm</th>\n",
       "      <th>city-mpg</th>\n",
       "      <th>highway-mpg</th>\n",
       "      <th>price</th>\n",
       "    </tr>\n",
       "  </thead>\n",
       "  <tbody>\n",
       "    <tr>\n",
       "      <th>200</th>\n",
       "      <td>-1</td>\n",
       "      <td>95</td>\n",
       "      <td>volvo</td>\n",
       "      <td>gas</td>\n",
       "      <td>std</td>\n",
       "      <td>four</td>\n",
       "      <td>sedan</td>\n",
       "      <td>rwd</td>\n",
       "      <td>front</td>\n",
       "      <td>109.1</td>\n",
       "      <td>...</td>\n",
       "      <td>141</td>\n",
       "      <td>mpfi</td>\n",
       "      <td>3.78</td>\n",
       "      <td>3.15</td>\n",
       "      <td>9.5</td>\n",
       "      <td>114</td>\n",
       "      <td>5400</td>\n",
       "      <td>23</td>\n",
       "      <td>28</td>\n",
       "      <td>16845</td>\n",
       "    </tr>\n",
       "    <tr>\n",
       "      <th>201</th>\n",
       "      <td>-1</td>\n",
       "      <td>95</td>\n",
       "      <td>volvo</td>\n",
       "      <td>gas</td>\n",
       "      <td>turbo</td>\n",
       "      <td>four</td>\n",
       "      <td>sedan</td>\n",
       "      <td>rwd</td>\n",
       "      <td>front</td>\n",
       "      <td>109.1</td>\n",
       "      <td>...</td>\n",
       "      <td>141</td>\n",
       "      <td>mpfi</td>\n",
       "      <td>3.78</td>\n",
       "      <td>3.15</td>\n",
       "      <td>8.7</td>\n",
       "      <td>160</td>\n",
       "      <td>5300</td>\n",
       "      <td>19</td>\n",
       "      <td>25</td>\n",
       "      <td>19045</td>\n",
       "    </tr>\n",
       "    <tr>\n",
       "      <th>202</th>\n",
       "      <td>-1</td>\n",
       "      <td>95</td>\n",
       "      <td>volvo</td>\n",
       "      <td>gas</td>\n",
       "      <td>std</td>\n",
       "      <td>four</td>\n",
       "      <td>sedan</td>\n",
       "      <td>rwd</td>\n",
       "      <td>front</td>\n",
       "      <td>109.1</td>\n",
       "      <td>...</td>\n",
       "      <td>173</td>\n",
       "      <td>mpfi</td>\n",
       "      <td>3.58</td>\n",
       "      <td>2.87</td>\n",
       "      <td>8.8</td>\n",
       "      <td>134</td>\n",
       "      <td>5500</td>\n",
       "      <td>18</td>\n",
       "      <td>23</td>\n",
       "      <td>21485</td>\n",
       "    </tr>\n",
       "    <tr>\n",
       "      <th>203</th>\n",
       "      <td>-1</td>\n",
       "      <td>95</td>\n",
       "      <td>volvo</td>\n",
       "      <td>diesel</td>\n",
       "      <td>turbo</td>\n",
       "      <td>four</td>\n",
       "      <td>sedan</td>\n",
       "      <td>rwd</td>\n",
       "      <td>front</td>\n",
       "      <td>109.1</td>\n",
       "      <td>...</td>\n",
       "      <td>145</td>\n",
       "      <td>idi</td>\n",
       "      <td>3.01</td>\n",
       "      <td>3.4</td>\n",
       "      <td>23.0</td>\n",
       "      <td>106</td>\n",
       "      <td>4800</td>\n",
       "      <td>26</td>\n",
       "      <td>27</td>\n",
       "      <td>22470</td>\n",
       "    </tr>\n",
       "    <tr>\n",
       "      <th>204</th>\n",
       "      <td>-1</td>\n",
       "      <td>95</td>\n",
       "      <td>volvo</td>\n",
       "      <td>gas</td>\n",
       "      <td>turbo</td>\n",
       "      <td>four</td>\n",
       "      <td>sedan</td>\n",
       "      <td>rwd</td>\n",
       "      <td>front</td>\n",
       "      <td>109.1</td>\n",
       "      <td>...</td>\n",
       "      <td>141</td>\n",
       "      <td>mpfi</td>\n",
       "      <td>3.78</td>\n",
       "      <td>3.15</td>\n",
       "      <td>9.5</td>\n",
       "      <td>114</td>\n",
       "      <td>5400</td>\n",
       "      <td>19</td>\n",
       "      <td>25</td>\n",
       "      <td>22625</td>\n",
       "    </tr>\n",
       "  </tbody>\n",
       "</table>\n",
       "<p>5 rows × 26 columns</p>\n",
       "</div>"
      ],
      "text/plain": [
       "     symboling  normalized-losses   make fuel-type aspiration num-of-doors  \\\n",
       "200         -1                 95  volvo       gas        std         four   \n",
       "201         -1                 95  volvo       gas      turbo         four   \n",
       "202         -1                 95  volvo       gas        std         four   \n",
       "203         -1                 95  volvo    diesel      turbo         four   \n",
       "204         -1                 95  volvo       gas      turbo         four   \n",
       "\n",
       "    body-style drive-wheels engine-location  wheel-base  ...  engine-size  \\\n",
       "200      sedan          rwd           front       109.1  ...          141   \n",
       "201      sedan          rwd           front       109.1  ...          141   \n",
       "202      sedan          rwd           front       109.1  ...          173   \n",
       "203      sedan          rwd           front       109.1  ...          145   \n",
       "204      sedan          rwd           front       109.1  ...          141   \n",
       "\n",
       "     fuel-system  bore  stroke compression-ratio horsepower  peak-rpm  \\\n",
       "200         mpfi  3.78    3.15               9.5        114      5400   \n",
       "201         mpfi  3.78    3.15               8.7        160      5300   \n",
       "202         mpfi  3.58    2.87               8.8        134      5500   \n",
       "203          idi  3.01     3.4              23.0        106      4800   \n",
       "204         mpfi  3.78    3.15               9.5        114      5400   \n",
       "\n",
       "    city-mpg  highway-mpg  price  \n",
       "200       23           28  16845  \n",
       "201       19           25  19045  \n",
       "202       18           23  21485  \n",
       "203       26           27  22470  \n",
       "204       19           25  22625  \n",
       "\n",
       "[5 rows x 26 columns]"
      ]
     },
     "execution_count": 37,
     "metadata": {},
     "output_type": "execute_result"
    }
   ],
   "source": [
    "data_df.tail()"
   ]
  },
  {
   "cell_type": "code",
   "execution_count": 38,
   "id": "cca167ff-29f4-4f7f-9101-e51f4a6acc40",
   "metadata": {},
   "outputs": [
    {
     "data": {
      "text/html": [
       "<div>\n",
       "<style scoped>\n",
       "    .dataframe tbody tr th:only-of-type {\n",
       "        vertical-align: middle;\n",
       "    }\n",
       "\n",
       "    .dataframe tbody tr th {\n",
       "        vertical-align: top;\n",
       "    }\n",
       "\n",
       "    .dataframe thead th {\n",
       "        text-align: right;\n",
       "    }\n",
       "</style>\n",
       "<table border=\"1\" class=\"dataframe\">\n",
       "  <thead>\n",
       "    <tr style=\"text-align: right;\">\n",
       "      <th></th>\n",
       "      <th>symboling</th>\n",
       "      <th>normalized-losses</th>\n",
       "      <th>wheel-base</th>\n",
       "      <th>length</th>\n",
       "      <th>width</th>\n",
       "      <th>height</th>\n",
       "      <th>curb-weight</th>\n",
       "      <th>engine-size</th>\n",
       "      <th>bore</th>\n",
       "      <th>compression-ratio</th>\n",
       "      <th>horsepower</th>\n",
       "      <th>city-mpg</th>\n",
       "      <th>highway-mpg</th>\n",
       "      <th>price</th>\n",
       "    </tr>\n",
       "  </thead>\n",
       "  <tbody>\n",
       "    <tr>\n",
       "      <th>count</th>\n",
       "      <td>203.000000</td>\n",
       "      <td>203.000000</td>\n",
       "      <td>203.000000</td>\n",
       "      <td>203.00000</td>\n",
       "      <td>203.000000</td>\n",
       "      <td>203.000000</td>\n",
       "      <td>203.000000</td>\n",
       "      <td>203.000000</td>\n",
       "      <td>203.000000</td>\n",
       "      <td>203.000000</td>\n",
       "      <td>203.000000</td>\n",
       "      <td>203.000000</td>\n",
       "      <td>203.000000</td>\n",
       "      <td>203.000000</td>\n",
       "    </tr>\n",
       "    <tr>\n",
       "      <th>mean</th>\n",
       "      <td>0.837438</td>\n",
       "      <td>121.871921</td>\n",
       "      <td>98.781281</td>\n",
       "      <td>174.11330</td>\n",
       "      <td>65.915271</td>\n",
       "      <td>53.731527</td>\n",
       "      <td>2557.916256</td>\n",
       "      <td>127.073892</td>\n",
       "      <td>3.330955</td>\n",
       "      <td>10.093202</td>\n",
       "      <td>104.463054</td>\n",
       "      <td>25.172414</td>\n",
       "      <td>30.699507</td>\n",
       "      <td>13241.911330</td>\n",
       "    </tr>\n",
       "    <tr>\n",
       "      <th>std</th>\n",
       "      <td>1.250021</td>\n",
       "      <td>31.784599</td>\n",
       "      <td>6.040994</td>\n",
       "      <td>12.33909</td>\n",
       "      <td>2.150274</td>\n",
       "      <td>2.442526</td>\n",
       "      <td>522.557049</td>\n",
       "      <td>41.797123</td>\n",
       "      <td>0.271327</td>\n",
       "      <td>3.888216</td>\n",
       "      <td>39.612384</td>\n",
       "      <td>6.529812</td>\n",
       "      <td>6.874645</td>\n",
       "      <td>7898.957924</td>\n",
       "    </tr>\n",
       "    <tr>\n",
       "      <th>min</th>\n",
       "      <td>-2.000000</td>\n",
       "      <td>65.000000</td>\n",
       "      <td>86.600000</td>\n",
       "      <td>141.10000</td>\n",
       "      <td>60.300000</td>\n",
       "      <td>47.800000</td>\n",
       "      <td>1488.000000</td>\n",
       "      <td>61.000000</td>\n",
       "      <td>2.540000</td>\n",
       "      <td>7.000000</td>\n",
       "      <td>48.000000</td>\n",
       "      <td>13.000000</td>\n",
       "      <td>16.000000</td>\n",
       "      <td>5118.000000</td>\n",
       "    </tr>\n",
       "    <tr>\n",
       "      <th>25%</th>\n",
       "      <td>0.000000</td>\n",
       "      <td>101.000000</td>\n",
       "      <td>94.500000</td>\n",
       "      <td>166.55000</td>\n",
       "      <td>64.100000</td>\n",
       "      <td>52.000000</td>\n",
       "      <td>2145.000000</td>\n",
       "      <td>97.000000</td>\n",
       "      <td>3.150000</td>\n",
       "      <td>8.600000</td>\n",
       "      <td>70.000000</td>\n",
       "      <td>19.000000</td>\n",
       "      <td>25.000000</td>\n",
       "      <td>7781.500000</td>\n",
       "    </tr>\n",
       "    <tr>\n",
       "      <th>50%</th>\n",
       "      <td>1.000000</td>\n",
       "      <td>122.000000</td>\n",
       "      <td>97.000000</td>\n",
       "      <td>173.20000</td>\n",
       "      <td>65.500000</td>\n",
       "      <td>54.100000</td>\n",
       "      <td>2414.000000</td>\n",
       "      <td>120.000000</td>\n",
       "      <td>3.310000</td>\n",
       "      <td>9.000000</td>\n",
       "      <td>95.000000</td>\n",
       "      <td>24.000000</td>\n",
       "      <td>30.000000</td>\n",
       "      <td>10595.000000</td>\n",
       "    </tr>\n",
       "    <tr>\n",
       "      <th>75%</th>\n",
       "      <td>2.000000</td>\n",
       "      <td>137.000000</td>\n",
       "      <td>102.400000</td>\n",
       "      <td>183.30000</td>\n",
       "      <td>66.900000</td>\n",
       "      <td>55.500000</td>\n",
       "      <td>2943.500000</td>\n",
       "      <td>143.000000</td>\n",
       "      <td>3.585000</td>\n",
       "      <td>9.400000</td>\n",
       "      <td>116.000000</td>\n",
       "      <td>30.000000</td>\n",
       "      <td>34.000000</td>\n",
       "      <td>16500.000000</td>\n",
       "    </tr>\n",
       "    <tr>\n",
       "      <th>max</th>\n",
       "      <td>3.000000</td>\n",
       "      <td>256.000000</td>\n",
       "      <td>120.900000</td>\n",
       "      <td>208.10000</td>\n",
       "      <td>72.300000</td>\n",
       "      <td>59.800000</td>\n",
       "      <td>4066.000000</td>\n",
       "      <td>326.000000</td>\n",
       "      <td>3.940000</td>\n",
       "      <td>23.000000</td>\n",
       "      <td>288.000000</td>\n",
       "      <td>49.000000</td>\n",
       "      <td>54.000000</td>\n",
       "      <td>45400.000000</td>\n",
       "    </tr>\n",
       "  </tbody>\n",
       "</table>\n",
       "</div>"
      ],
      "text/plain": [
       "        symboling  normalized-losses  wheel-base     length       width  \\\n",
       "count  203.000000         203.000000  203.000000  203.00000  203.000000   \n",
       "mean     0.837438         121.871921   98.781281  174.11330   65.915271   \n",
       "std      1.250021          31.784599    6.040994   12.33909    2.150274   \n",
       "min     -2.000000          65.000000   86.600000  141.10000   60.300000   \n",
       "25%      0.000000         101.000000   94.500000  166.55000   64.100000   \n",
       "50%      1.000000         122.000000   97.000000  173.20000   65.500000   \n",
       "75%      2.000000         137.000000  102.400000  183.30000   66.900000   \n",
       "max      3.000000         256.000000  120.900000  208.10000   72.300000   \n",
       "\n",
       "           height  curb-weight  engine-size        bore  compression-ratio  \\\n",
       "count  203.000000   203.000000   203.000000  203.000000         203.000000   \n",
       "mean    53.731527  2557.916256   127.073892    3.330955          10.093202   \n",
       "std      2.442526   522.557049    41.797123    0.271327           3.888216   \n",
       "min     47.800000  1488.000000    61.000000    2.540000           7.000000   \n",
       "25%     52.000000  2145.000000    97.000000    3.150000           8.600000   \n",
       "50%     54.100000  2414.000000   120.000000    3.310000           9.000000   \n",
       "75%     55.500000  2943.500000   143.000000    3.585000           9.400000   \n",
       "max     59.800000  4066.000000   326.000000    3.940000          23.000000   \n",
       "\n",
       "       horsepower    city-mpg  highway-mpg         price  \n",
       "count  203.000000  203.000000   203.000000    203.000000  \n",
       "mean   104.463054   25.172414    30.699507  13241.911330  \n",
       "std     39.612384    6.529812     6.874645   7898.957924  \n",
       "min     48.000000   13.000000    16.000000   5118.000000  \n",
       "25%     70.000000   19.000000    25.000000   7781.500000  \n",
       "50%     95.000000   24.000000    30.000000  10595.000000  \n",
       "75%    116.000000   30.000000    34.000000  16500.000000  \n",
       "max    288.000000   49.000000    54.000000  45400.000000  "
      ]
     },
     "execution_count": 38,
     "metadata": {},
     "output_type": "execute_result"
    }
   ],
   "source": [
    "data_df.describe()"
   ]
  },
  {
   "cell_type": "code",
   "execution_count": 39,
   "id": "ce9a96d1-374e-4ba6-a169-c7a463a591b6",
   "metadata": {},
   "outputs": [
    {
     "data": {
      "text/plain": [
       "Text(0.5, 0, 'Make')"
      ]
     },
     "execution_count": 39,
     "metadata": {},
     "output_type": "execute_result"
    },
    {
     "data": {
      "image/png": "[encoded data removed]",
      "text/plain": [
       "<Figure size 1440x576 with 1 Axes>"
      ]
     },
     "metadata": {
      "needs_background": "light"
     },
     "output_type": "display_data"
    }
   ],
   "source": [
    "data_df.make.value_counts().nlargest(40).plot(kind='bar', figsize=(20,8)) #get the count groupby make form data frame amdf\n",
    "plt.title(\"Num of vehicles by make\") #title of the plot\n",
    "plt.ylabel('Num of vehicles') #Y axis label\n",
    "plt.xticks(rotation=30) #rotate x axis lable to 30 degrees\n",
    "plt.xlabel('Make') #X axis label"
   ]
  },
  {
   "cell_type": "code",
   "execution_count": 56,
   "id": "041fc1bb-2469-4b0e-b025-1e8762e048dd",
   "metadata": {},
   "outputs": [
    {
     "data": {
      "text/plain": [
       "Text(0.5, 0, 'Normalized-losses')"
      ]
     },
     "execution_count": 56,
     "metadata": {},
     "output_type": "execute_result"
    },
    {
     "data": {
      "image/png": "[encoded data removed]",
      "text/plain": [
       "<Figure size 432x288 with 1 Axes>"
      ]
     },
     "metadata": {
      "needs_background": "light"
     },
     "output_type": "display_data"
    }
   ],
   "source": [
    "data_df['normalized-losses'].hist(bins=5,color='red')#plot normalized-losses with56 bins and green color\n",
    "plt.title(\"Normalized losses of vehicles of vehicles\") #title of the chart\n",
    "plt.ylabel('Num of vehicles') #y label\n",
    "plt.xlabel('Normalized-losses') #x label"
   ]
  },
  {
   "cell_type": "code",
   "execution_count": 40,
   "id": "983ec183-4d1a-40a4-ac95-4afd57e9cabc",
   "metadata": {},
   "outputs": [
    {
     "data": {
      "text/plain": [
       "Text(0.5, 0, 'Risk rating')"
      ]
     },
     "execution_count": 40,
     "metadata": {},
     "output_type": "execute_result"
    },
    {
     "data": {
      "image/png": "[encoded data removed]",
      "text/plain": [
       "<Figure size 432x288 with 1 Axes>"
      ]
     },
     "metadata": {
      "needs_background": "light"
     },
     "output_type": "display_data"
    }
   ],
   "source": [
    "data_df.symboling.hist(bins=6, color='blue') #plot symboling with 6 bins and grey color\n",
    "plt.title(\"Insurance risk ratings of vehicles\") #title of the char\n",
    "plt.ylabel('Num of vehicles') #y axis label\n",
    "plt.xlabel('Risk rating') #x Axis label"
   ]
  },
  {
   "cell_type": "markdown",
   "id": "a5c857aa-83ba-4fe2-8566-084417f85184",
   "metadata": {},
   "source": [
    "### How many cars usee gas vs diesel?"
   ]
  },
  {
   "cell_type": "code",
   "execution_count": 42,
   "id": "d989c6c5-03e7-4d36-8307-340d0a6d9648",
   "metadata": {},
   "outputs": [
    {
     "data": {
      "text/plain": [
       "Text(0.5, 0, 'Fuel Type')"
      ]
     },
     "execution_count": 42,
     "metadata": {},
     "output_type": "execute_result"
    },
    {
     "data": {
      "image/png": "[encoded data removed]",
      "text/plain": [
       "<Figure size 432x288 with 1 Axes>"
      ]
     },
     "metadata": {},
     "output_type": "display_data"
    }
   ],
   "source": [
    "data_df['fuel-type'].value_counts().plot.pie( autopct='%1.1f%%',\n",
    "        shadow=True, startangle=90) \n",
    "plt.title(\"Fuel type pie chart\") \n",
    "plt.xlabel('Fuel Type') "
   ]
  },
  {
   "cell_type": "code",
   "execution_count": 41,
   "id": "bb3bb29c-ffc5-4b27-844d-9797a23e8a4b",
   "metadata": {},
   "outputs": [
    {
     "data": {
      "image/png": "[encoded data removed]",
      "text/plain": [
       "<Figure size 1080x864 with 16 Axes>"
      ]
     },
     "metadata": {
      "needs_background": "light"
     },
     "output_type": "display_data"
    }
   ],
   "source": [
    "data_df.hist(bins=3,figsize=(15,12), color='grey')\n",
    "plt.tight_layout()"
   ]
  },
  {
   "cell_type": "markdown",
   "id": "764200a6-e60b-4298-8dcb-8cdcec11b297",
   "metadata": {},
   "source": [
    "## Using pg. 29 of your text as an example, compare two scenarios in your data using a PMF. Reminder, this isn’t comparing two variables against each other – it is the same variable, but a different scenario. Almost like a filter."
   ]
  },
  {
   "cell_type": "code",
   "execution_count": 46,
   "id": "a006548f-7321-4b80-bb16-b4268b8272c2",
   "metadata": {},
   "outputs": [
    {
     "data": {
      "image/png": "[encoded data removed]",
      "text/plain": [
       "<Figure size 1656x720 with 1 Axes>"
      ]
     },
     "metadata": {
      "needs_background": "light"
     },
     "output_type": "display_data"
    }
   ],
   "source": [
    "plt.rcParams['figure.figsize']=(23,10) #figure size 23,10\n",
    "ax = sns.boxplot(x=\"make\", y=\"normalized-losses\", data=data_df)#boxplot for make and normalised-losses"
   ]
  },
  {
   "cell_type": "code",
   "execution_count": 44,
   "id": "4fae06b3-821c-45fe-a20c-33ce00bedd07",
   "metadata": {},
   "outputs": [
    {
     "data": {
      "image/png": "[encoded data removed]",
      "text/plain": [
       "<Figure size 1656x720 with 1 Axes>"
      ]
     },
     "metadata": {
      "needs_background": "light"
     },
     "output_type": "display_data"
    }
   ],
   "source": [
    "plt.rcParams['figure.figsize']=(23,10) #figure size 23,10\n",
    "ax = sns.boxplot(x=\"make\", y=\"price\", data=data_df) #boxplot for make and price"
   ]
  },
  {
   "cell_type": "code",
   "execution_count": 50,
   "id": "9c45a3c5-e66c-4a09-b7b3-e35ed2e1af46",
   "metadata": {},
   "outputs": [
    {
     "data": {
      "image/png": "[encoded data removed]",
      "text/plain": [
       "<Figure size 432x288 with 1 Axes>"
      ]
     },
     "metadata": {
      "needs_background": "light"
     },
     "output_type": "display_data"
    },
    {
     "data": {
      "text/plain": [
       "<Figure size 576x432 with 0 Axes>"
      ]
     },
     "metadata": {},
     "output_type": "display_data"
    }
   ],
   "source": [
    "cdf = thinkstats2.Cdf(data_df[\"price\"]) #calculate CDF of price using thinkstat2 module\n",
    "thinkplot.Cdf(cdf) #plot CDF value\n",
    "thinkplot.Show(xlabel=\"price\", ylabel=\"CDF\") #x and y label values"
   ]
  },
  {
   "cell_type": "code",
   "execution_count": 51,
   "id": "df509683-172b-4f1e-92ee-5b6ff50776ec",
   "metadata": {},
   "outputs": [
    {
     "data": {
      "image/png": "[encoded data removed]",
      "text/plain": [
       "<Figure size 432x288 with 1 Axes>"
      ]
     },
     "metadata": {
      "needs_background": "light"
     },
     "output_type": "display_data"
    },
    {
     "data": {
      "text/plain": [
       "<Figure size 576x432 with 0 Axes>"
      ]
     },
     "metadata": {},
     "output_type": "display_data"
    }
   ],
   "source": [
    "cdf = thinkstats2.Cdf(data_df[\"normalized-losses\"])#calculate CDF of normalized-losses using thinkstat2 module\n",
    "thinkplot.Cdf(cdf) #plot CDF value\n",
    "thinkplot.Show(xlabel=\"normalized-losses\", ylabel=\"CDF\")#x and y label values"
   ]
  },
  {
   "cell_type": "markdown",
   "id": "d04c4405-7ef4-4dd5-beff-8eb57ecbf5c9",
   "metadata": {},
   "source": [
    "## Create 1 CDF with one of your variables, using page 41-44 as your guide, what does this tell you about your variable and how does it address the question you are trying to answer (Chapter 4)."
   ]
  },
  {
   "cell_type": "code",
   "execution_count": 54,
   "id": "67704f9a-6ac9-4785-beae-9d4f63551f37",
   "metadata": {},
   "outputs": [
    {
     "data": {
      "image/png": "[encoded data removed]",
      "text/plain": [
       "<Figure size 432x288 with 1 Axes>"
      ]
     },
     "metadata": {
      "needs_background": "light"
     },
     "output_type": "display_data"
    },
    {
     "name": "stdout",
     "output_type": "stream",
     "text": [
      "The line is not flat, meaning that exponential distro is not a good model fit for this data. \n"
     ]
    },
    {
     "data": {
      "text/plain": [
       "<Figure size 576x432 with 0 Axes>"
      ]
     },
     "metadata": {},
     "output_type": "display_data"
    }
   ],
   "source": [
    "cdf = thinkstats2.Cdf(data_df[\"normalized-losses\"])\n",
    "thinkplot.Cdf(cdf, complement=True)\n",
    "thinkplot.Show(xlabel='normalized-losses',ylabel='CDF',yscale='log')\n",
    "print(\"The line is not flat, meaning that exponential distro is not a good model fit for this data. \")"
   ]
  },
  {
   "cell_type": "markdown",
   "id": "786fa775-5181-4909-b606-0c30c8bd7ac9",
   "metadata": {},
   "source": [
    "## Create two scatter plots comparing two variables and provide your analysis on correlation and causation.**\n",
    "- Remember, covariance, Pearson’s correlation, and Non-Linear Relationships should also be considered during your analysis (Chapter 7)."
   ]
  },
  {
   "cell_type": "code",
   "execution_count": 57,
   "id": "2a66f51b-0938-491a-add1-219daf0e071f",
   "metadata": {},
   "outputs": [
    {
     "name": "stdout",
     "output_type": "stream",
     "text": [
      "Given Price\n",
      "For symboling pearson coefficient is -0.08301993976238638 \n",
      "For normalized-losses pearson coefficient is 0.13677016817097587 \n",
      "For wheel-base pearson coefficient is 0.5823786680800346 \n",
      "For length pearson coefficient is 0.6834936293988816 \n",
      "For width pearson coefficient is 0.7289172034774374 \n",
      "For height pearson coefficient is 0.13261369723972555 \n",
      "For curb-weight pearson coefficient is 0.8204391954941144 \n",
      "For engine-size pearson coefficient is 0.8615447387770904 \n",
      "For compression-ratio pearson coefficient is 0.07599222145477079 \n",
      "For horsepower pearson coefficient is 0.7590057204838158 \n",
      "For city-mpg pearson coefficient is -0.6707658566722715 \n",
      "For highway-mpg pearson coefficient is -0.6937011821271691 \n",
      "Price seems to increase when horsepower/miles traveled\n"
     ]
    }
   ],
   "source": [
    "data_df_cols=['symboling',\n",
    " 'normalized-losses',\n",
    " 'wheel-base',\n",
    " 'length',\n",
    " 'width',\n",
    " 'height',\n",
    " 'curb-weight',\n",
    " 'engine-size',\n",
    " 'compression-ratio',\n",
    " 'horsepower',\n",
    " 'city-mpg',\n",
    " 'highway-mpg'] #get column names for integer values\n",
    "print('Given Price')\n",
    "for i in data_df_cols: #loop through columns\n",
    "    pearsoncoef,pvalue=stats.pearsonr(data_df[i],data_df[\"price\"]) #caluclate pearson coefficients for each colum against price\n",
    "    print(\"For {} pearson coefficient is {} \".format(i,pearsoncoef,pvalue))#print corresponding coefficients and P value\n",
    "    \n",
    "print(\"Price seems to increase when horsepower/miles traveled\")    "
   ]
  },
  {
   "cell_type": "code",
   "execution_count": 59,
   "id": "5a4652cd-fb75-4e46-860a-56b7882f5abe",
   "metadata": {},
   "outputs": [
    {
     "data": {
      "image/png": "[encoded data removed]",
      "text/plain": [
       "<Figure size 360x360 with 1 Axes>"
      ]
     },
     "metadata": {
      "needs_background": "light"
     },
     "output_type": "display_data"
    }
   ],
   "source": [
    "import warnings\n",
    "warnings.simplefilter(action=\"ignore\", category=FutureWarning)#ignoring warnings\n",
    "sns.lmplot('price',\"engine-size\", data_df); #scattor plotting price and engine size"
   ]
  },
  {
   "cell_type": "code",
   "execution_count": 60,
   "id": "52637286-9f59-481b-aec1-cc1153f7a9e1",
   "metadata": {},
   "outputs": [
    {
     "data": {
      "text/html": [
       "<div>\n",
       "<style scoped>\n",
       "    .dataframe tbody tr th:only-of-type {\n",
       "        vertical-align: middle;\n",
       "    }\n",
       "\n",
       "    .dataframe tbody tr th {\n",
       "        vertical-align: top;\n",
       "    }\n",
       "\n",
       "    .dataframe thead th {\n",
       "        text-align: right;\n",
       "    }\n",
       "</style>\n",
       "<table border=\"1\" class=\"dataframe\">\n",
       "  <thead>\n",
       "    <tr style=\"text-align: right;\">\n",
       "      <th></th>\n",
       "      <th>symboling</th>\n",
       "      <th>normalized-losses</th>\n",
       "      <th>wheel-base</th>\n",
       "      <th>length</th>\n",
       "      <th>width</th>\n",
       "      <th>height</th>\n",
       "      <th>curb-weight</th>\n",
       "      <th>engine-size</th>\n",
       "      <th>bore</th>\n",
       "      <th>compression-ratio</th>\n",
       "      <th>horsepower</th>\n",
       "      <th>city-mpg</th>\n",
       "      <th>highway-mpg</th>\n",
       "      <th>price</th>\n",
       "    </tr>\n",
       "  </thead>\n",
       "  <tbody>\n",
       "    <tr>\n",
       "      <th>symboling</th>\n",
       "      <td>1.562552</td>\n",
       "      <td>18.513730</td>\n",
       "      <td>-4.024345</td>\n",
       "      <td>-5.519609</td>\n",
       "      <td>-0.624238</td>\n",
       "      <td>-1.652770</td>\n",
       "      <td>-1.492711e+02</td>\n",
       "      <td>-5.537434</td>\n",
       "      <td>-0.043767</td>\n",
       "      <td>-0.837645</td>\n",
       "      <td>3.382578</td>\n",
       "      <td>-0.249061</td>\n",
       "      <td>0.346949</td>\n",
       "      <td>-8.197274e+02</td>\n",
       "    </tr>\n",
       "    <tr>\n",
       "      <th>normalized-losses</th>\n",
       "      <td>18.513730</td>\n",
       "      <td>1010.260742</td>\n",
       "      <td>-10.235083</td>\n",
       "      <td>9.746266</td>\n",
       "      <td>6.050975</td>\n",
       "      <td>-28.578615</td>\n",
       "      <td>1.676232e+03</td>\n",
       "      <td>151.628323</td>\n",
       "      <td>-0.214199</td>\n",
       "      <td>-14.233350</td>\n",
       "      <td>257.539799</td>\n",
       "      <td>-45.636224</td>\n",
       "      <td>-39.177291</td>\n",
       "      <td>3.433823e+04</td>\n",
       "    </tr>\n",
       "    <tr>\n",
       "      <th>wheel-base</th>\n",
       "      <td>-4.024345</td>\n",
       "      <td>-10.235083</td>\n",
       "      <td>36.493608</td>\n",
       "      <td>65.196834</td>\n",
       "      <td>10.320238</td>\n",
       "      <td>8.680247</td>\n",
       "      <td>2.449239e+03</td>\n",
       "      <td>143.453370</td>\n",
       "      <td>0.797412</td>\n",
       "      <td>5.968595</td>\n",
       "      <td>84.540394</td>\n",
       "      <td>-18.747252</td>\n",
       "      <td>-22.805653</td>\n",
       "      <td>2.778969e+04</td>\n",
       "    </tr>\n",
       "    <tr>\n",
       "      <th>length</th>\n",
       "      <td>-5.519609</td>\n",
       "      <td>9.746266</td>\n",
       "      <td>65.196834</td>\n",
       "      <td>152.253139</td>\n",
       "      <td>22.295192</td>\n",
       "      <td>14.656856</td>\n",
       "      <td>5.665871e+03</td>\n",
       "      <td>352.241092</td>\n",
       "      <td>2.020371</td>\n",
       "      <td>7.398987</td>\n",
       "      <td>273.530444</td>\n",
       "      <td>-54.984978</td>\n",
       "      <td>-60.728657</td>\n",
       "      <td>6.661736e+04</td>\n",
       "    </tr>\n",
       "    <tr>\n",
       "      <th>width</th>\n",
       "      <td>-0.624238</td>\n",
       "      <td>6.050975</td>\n",
       "      <td>10.320238</td>\n",
       "      <td>22.295192</td>\n",
       "      <td>4.623677</td>\n",
       "      <td>1.440209</td>\n",
       "      <td>9.745419e+02</td>\n",
       "      <td>66.059757</td>\n",
       "      <td>0.324774</td>\n",
       "      <td>1.495674</td>\n",
       "      <td>55.073587</td>\n",
       "      <td>-9.153141</td>\n",
       "      <td>-10.143903</td>\n",
       "      <td>1.238060e+04</td>\n",
       "    </tr>\n",
       "    <tr>\n",
       "      <th>height</th>\n",
       "      <td>-1.652770</td>\n",
       "      <td>-28.578615</td>\n",
       "      <td>8.680247</td>\n",
       "      <td>14.656856</td>\n",
       "      <td>1.440209</td>\n",
       "      <td>5.965932</td>\n",
       "      <td>3.751111e+02</td>\n",
       "      <td>6.495184</td>\n",
       "      <td>0.109085</td>\n",
       "      <td>2.411032</td>\n",
       "      <td>-10.421107</td>\n",
       "      <td>-0.898532</td>\n",
       "      <td>-1.934539</td>\n",
       "      <td>2.558570e+03</td>\n",
       "    </tr>\n",
       "    <tr>\n",
       "      <th>curb-weight</th>\n",
       "      <td>-149.271107</td>\n",
       "      <td>1676.231795</td>\n",
       "      <td>2449.238524</td>\n",
       "      <td>5665.871416</td>\n",
       "      <td>974.541879</td>\n",
       "      <td>375.111069</td>\n",
       "      <td>2.730659e+05</td>\n",
       "      <td>18570.332951</td>\n",
       "      <td>91.842999</td>\n",
       "      <td>318.665666</td>\n",
       "      <td>15578.672633</td>\n",
       "      <td>-2601.653807</td>\n",
       "      <td>-2882.693606</td>\n",
       "      <td>3.386491e+06</td>\n",
       "    </tr>\n",
       "    <tr>\n",
       "      <th>engine-size</th>\n",
       "      <td>-5.537434</td>\n",
       "      <td>151.628323</td>\n",
       "      <td>143.453370</td>\n",
       "      <td>352.241092</td>\n",
       "      <td>66.059757</td>\n",
       "      <td>6.495184</td>\n",
       "      <td>1.857033e+04</td>\n",
       "      <td>1746.999463</td>\n",
       "      <td>6.606720</td>\n",
       "      <td>4.788970</td>\n",
       "      <td>1346.039872</td>\n",
       "      <td>-179.745476</td>\n",
       "      <td>-196.027191</td>\n",
       "      <td>2.844422e+05</td>\n",
       "    </tr>\n",
       "    <tr>\n",
       "      <th>bore</th>\n",
       "      <td>-0.043767</td>\n",
       "      <td>-0.214199</td>\n",
       "      <td>0.797412</td>\n",
       "      <td>2.020371</td>\n",
       "      <td>0.324774</td>\n",
       "      <td>0.109085</td>\n",
       "      <td>9.184300e+01</td>\n",
       "      <td>6.606720</td>\n",
       "      <td>0.073618</td>\n",
       "      <td>-0.001826</td>\n",
       "      <td>6.231640</td>\n",
       "      <td>-1.051113</td>\n",
       "      <td>-1.110259</td>\n",
       "      <td>1.139447e+03</td>\n",
       "    </tr>\n",
       "    <tr>\n",
       "      <th>compression-ratio</th>\n",
       "      <td>-0.837645</td>\n",
       "      <td>-14.233350</td>\n",
       "      <td>5.968595</td>\n",
       "      <td>7.398987</td>\n",
       "      <td>1.495674</td>\n",
       "      <td>2.411032</td>\n",
       "      <td>3.186657e+02</td>\n",
       "      <td>4.788970</td>\n",
       "      <td>-0.001826</td>\n",
       "      <td>15.118222</td>\n",
       "      <td>-30.127035</td>\n",
       "      <td>7.833257</td>\n",
       "      <td>6.614630</td>\n",
       "      <td>2.333938e+03</td>\n",
       "    </tr>\n",
       "    <tr>\n",
       "      <th>horsepower</th>\n",
       "      <td>3.382578</td>\n",
       "      <td>257.539799</td>\n",
       "      <td>84.540394</td>\n",
       "      <td>273.530444</td>\n",
       "      <td>55.073587</td>\n",
       "      <td>-10.421107</td>\n",
       "      <td>1.557867e+04</td>\n",
       "      <td>1346.039872</td>\n",
       "      <td>6.231640</td>\n",
       "      <td>-30.127035</td>\n",
       "      <td>1569.140955</td>\n",
       "      <td>-207.555480</td>\n",
       "      <td>-209.632444</td>\n",
       "      <td>2.374903e+05</td>\n",
       "    </tr>\n",
       "    <tr>\n",
       "      <th>city-mpg</th>\n",
       "      <td>-0.249061</td>\n",
       "      <td>-45.636224</td>\n",
       "      <td>-18.747252</td>\n",
       "      <td>-54.984978</td>\n",
       "      <td>-9.153141</td>\n",
       "      <td>-0.898532</td>\n",
       "      <td>-2.601654e+03</td>\n",
       "      <td>-179.745476</td>\n",
       "      <td>-1.051113</td>\n",
       "      <td>7.833257</td>\n",
       "      <td>-207.555480</td>\n",
       "      <td>42.638443</td>\n",
       "      <td>43.586719</td>\n",
       "      <td>-3.459724e+04</td>\n",
       "    </tr>\n",
       "    <tr>\n",
       "      <th>highway-mpg</th>\n",
       "      <td>0.346949</td>\n",
       "      <td>-39.177291</td>\n",
       "      <td>-22.805653</td>\n",
       "      <td>-60.728657</td>\n",
       "      <td>-10.143903</td>\n",
       "      <td>-1.934539</td>\n",
       "      <td>-2.882694e+03</td>\n",
       "      <td>-196.027191</td>\n",
       "      <td>-1.110259</td>\n",
       "      <td>6.614630</td>\n",
       "      <td>-209.632444</td>\n",
       "      <td>43.586719</td>\n",
       "      <td>47.260742</td>\n",
       "      <td>-3.766973e+04</td>\n",
       "    </tr>\n",
       "    <tr>\n",
       "      <th>price</th>\n",
       "      <td>-819.727357</td>\n",
       "      <td>34338.231161</td>\n",
       "      <td>27789.687441</td>\n",
       "      <td>66617.357126</td>\n",
       "      <td>12380.600866</td>\n",
       "      <td>2558.570136</td>\n",
       "      <td>3.386491e+06</td>\n",
       "      <td>284442.194703</td>\n",
       "      <td>1139.447373</td>\n",
       "      <td>2333.937909</td>\n",
       "      <td>237490.273936</td>\n",
       "      <td>-34597.237112</td>\n",
       "      <td>-37669.729747</td>\n",
       "      <td>6.239354e+07</td>\n",
       "    </tr>\n",
       "  </tbody>\n",
       "</table>\n",
       "</div>"
      ],
      "text/plain": [
       "                    symboling  normalized-losses    wheel-base        length  \\\n",
       "symboling            1.562552          18.513730     -4.024345     -5.519609   \n",
       "normalized-losses   18.513730        1010.260742    -10.235083      9.746266   \n",
       "wheel-base          -4.024345         -10.235083     36.493608     65.196834   \n",
       "length              -5.519609           9.746266     65.196834    152.253139   \n",
       "width               -0.624238           6.050975     10.320238     22.295192   \n",
       "height              -1.652770         -28.578615      8.680247     14.656856   \n",
       "curb-weight       -149.271107        1676.231795   2449.238524   5665.871416   \n",
       "engine-size         -5.537434         151.628323    143.453370    352.241092   \n",
       "bore                -0.043767          -0.214199      0.797412      2.020371   \n",
       "compression-ratio   -0.837645         -14.233350      5.968595      7.398987   \n",
       "horsepower           3.382578         257.539799     84.540394    273.530444   \n",
       "city-mpg            -0.249061         -45.636224    -18.747252    -54.984978   \n",
       "highway-mpg          0.346949         -39.177291    -22.805653    -60.728657   \n",
       "price             -819.727357       34338.231161  27789.687441  66617.357126   \n",
       "\n",
       "                          width       height   curb-weight    engine-size  \\\n",
       "symboling             -0.624238    -1.652770 -1.492711e+02      -5.537434   \n",
       "normalized-losses      6.050975   -28.578615  1.676232e+03     151.628323   \n",
       "wheel-base            10.320238     8.680247  2.449239e+03     143.453370   \n",
       "length                22.295192    14.656856  5.665871e+03     352.241092   \n",
       "width                  4.623677     1.440209  9.745419e+02      66.059757   \n",
       "height                 1.440209     5.965932  3.751111e+02       6.495184   \n",
       "curb-weight          974.541879   375.111069  2.730659e+05   18570.332951   \n",
       "engine-size           66.059757     6.495184  1.857033e+04    1746.999463   \n",
       "bore                   0.324774     0.109085  9.184300e+01       6.606720   \n",
       "compression-ratio      1.495674     2.411032  3.186657e+02       4.788970   \n",
       "horsepower            55.073587   -10.421107  1.557867e+04    1346.039872   \n",
       "city-mpg              -9.153141    -0.898532 -2.601654e+03    -179.745476   \n",
       "highway-mpg          -10.143903    -1.934539 -2.882694e+03    -196.027191   \n",
       "price              12380.600866  2558.570136  3.386491e+06  284442.194703   \n",
       "\n",
       "                          bore  compression-ratio     horsepower  \\\n",
       "symboling            -0.043767          -0.837645       3.382578   \n",
       "normalized-losses    -0.214199         -14.233350     257.539799   \n",
       "wheel-base            0.797412           5.968595      84.540394   \n",
       "length                2.020371           7.398987     273.530444   \n",
       "width                 0.324774           1.495674      55.073587   \n",
       "height                0.109085           2.411032     -10.421107   \n",
       "curb-weight          91.842999         318.665666   15578.672633   \n",
       "engine-size           6.606720           4.788970    1346.039872   \n",
       "bore                  0.073618          -0.001826       6.231640   \n",
       "compression-ratio    -0.001826          15.118222     -30.127035   \n",
       "horsepower            6.231640         -30.127035    1569.140955   \n",
       "city-mpg             -1.051113           7.833257    -207.555480   \n",
       "highway-mpg          -1.110259           6.614630    -209.632444   \n",
       "price              1139.447373        2333.937909  237490.273936   \n",
       "\n",
       "                       city-mpg   highway-mpg         price  \n",
       "symboling             -0.249061      0.346949 -8.197274e+02  \n",
       "normalized-losses    -45.636224    -39.177291  3.433823e+04  \n",
       "wheel-base           -18.747252    -22.805653  2.778969e+04  \n",
       "length               -54.984978    -60.728657  6.661736e+04  \n",
       "width                 -9.153141    -10.143903  1.238060e+04  \n",
       "height                -0.898532     -1.934539  2.558570e+03  \n",
       "curb-weight        -2601.653807  -2882.693606  3.386491e+06  \n",
       "engine-size         -179.745476   -196.027191  2.844422e+05  \n",
       "bore                  -1.051113     -1.110259  1.139447e+03  \n",
       "compression-ratio      7.833257      6.614630  2.333938e+03  \n",
       "horsepower          -207.555480   -209.632444  2.374903e+05  \n",
       "city-mpg              42.638443     43.586719 -3.459724e+04  \n",
       "highway-mpg           43.586719     47.260742 -3.766973e+04  \n",
       "price             -34597.237112 -37669.729747  6.239354e+07  "
      ]
     },
     "execution_count": 60,
     "metadata": {},
     "output_type": "execute_result"
    }
   ],
   "source": [
    "data_df.cov()"
   ]
  },
  {
   "cell_type": "markdown",
   "id": "8d9a7b66-d980-46b5-9334-9e08b32dfdf1",
   "metadata": {},
   "source": [
    "## For this project, conduct a regression analysis on either one dependent and one explanatory variable, or multiple explanatory variables (Chapter 10 & 11)."
   ]
  },
  {
   "cell_type": "code",
   "execution_count": 66,
   "id": "3b9e7fac-0320-43dd-94cb-3c1b8d36ed4b",
   "metadata": {},
   "outputs": [
    {
     "name": "stdout",
     "output_type": "stream",
     "text": [
      "LM Intercept is 33667.046589172474\n",
      "LM Coefficient is [-811.4094829]\n"
     ]
    }
   ],
   "source": [
    "linear = LinearRegression() #linear regression function in to variable\n",
    "xs=data_df[['city-mpg']] #get x value as city mpg values\n",
    "ys=data_df['price'] #get y value for price values\n",
    "linear.fit(xs,ys) #pass x and y values to model to train (ys as function of xs)\n",
    "y_pred=linear.predict(xs) #for each value of x predict y\n",
    "print(\"LM Intercept is\",linear.intercept_) \n",
    "print(\"LM Coefficient is\",linear.coef_)"
   ]
  },
  {
   "cell_type": "code",
   "execution_count": 68,
   "id": "be2ba3dc-bfee-4e5f-847f-dd0e0269e1b5",
   "metadata": {},
   "outputs": [
    {
     "data": {
      "text/plain": [
       "<Figure size 576x576 with 0 Axes>"
      ]
     },
     "metadata": {},
     "output_type": "display_data"
    },
    {
     "data": {
      "image/png": "[encoded data removed]",
      "text/plain": [
       "<Figure size 360x360 with 1 Axes>"
      ]
     },
     "metadata": {
      "needs_background": "light"
     },
     "output_type": "display_data"
    }
   ],
   "source": [
    "plt.figure(figsize=(8,8)) #plot 8 by 8 figure\n",
    "sns.lmplot(x='city-mpg',y='price',data=data_df) #visualize linear relation ship for city miles to price\n",
    "plt.title(\"Regression Plot\",fontsize=29)\n",
    "plt.show()"
   ]
  },
  {
   "cell_type": "code",
   "execution_count": 69,
   "id": "906353e0-c6d5-4bb9-81bb-5b6090a31b3c",
   "metadata": {},
   "outputs": [
    {
     "data": {
      "text/html": [
       "<div>\n",
       "<style scoped>\n",
       "    .dataframe tbody tr th:only-of-type {\n",
       "        vertical-align: middle;\n",
       "    }\n",
       "\n",
       "    .dataframe tbody tr th {\n",
       "        vertical-align: top;\n",
       "    }\n",
       "\n",
       "    .dataframe thead th {\n",
       "        text-align: right;\n",
       "    }\n",
       "</style>\n",
       "<table border=\"1\" class=\"dataframe\">\n",
       "  <thead>\n",
       "    <tr style=\"text-align: right;\">\n",
       "      <th></th>\n",
       "      <th>horsepower</th>\n",
       "      <th>curb-weight</th>\n",
       "      <th>engine-size</th>\n",
       "      <th>highway-mpg</th>\n",
       "    </tr>\n",
       "  </thead>\n",
       "  <tbody>\n",
       "    <tr>\n",
       "      <th>0</th>\n",
       "      <td>111</td>\n",
       "      <td>2548</td>\n",
       "      <td>130</td>\n",
       "      <td>27</td>\n",
       "    </tr>\n",
       "    <tr>\n",
       "      <th>1</th>\n",
       "      <td>111</td>\n",
       "      <td>2548</td>\n",
       "      <td>130</td>\n",
       "      <td>27</td>\n",
       "    </tr>\n",
       "    <tr>\n",
       "      <th>2</th>\n",
       "      <td>154</td>\n",
       "      <td>2823</td>\n",
       "      <td>152</td>\n",
       "      <td>26</td>\n",
       "    </tr>\n",
       "    <tr>\n",
       "      <th>3</th>\n",
       "      <td>102</td>\n",
       "      <td>2337</td>\n",
       "      <td>109</td>\n",
       "      <td>30</td>\n",
       "    </tr>\n",
       "    <tr>\n",
       "      <th>4</th>\n",
       "      <td>115</td>\n",
       "      <td>2824</td>\n",
       "      <td>136</td>\n",
       "      <td>22</td>\n",
       "    </tr>\n",
       "    <tr>\n",
       "      <th>...</th>\n",
       "      <td>...</td>\n",
       "      <td>...</td>\n",
       "      <td>...</td>\n",
       "      <td>...</td>\n",
       "    </tr>\n",
       "    <tr>\n",
       "      <th>200</th>\n",
       "      <td>114</td>\n",
       "      <td>2952</td>\n",
       "      <td>141</td>\n",
       "      <td>28</td>\n",
       "    </tr>\n",
       "    <tr>\n",
       "      <th>201</th>\n",
       "      <td>160</td>\n",
       "      <td>3049</td>\n",
       "      <td>141</td>\n",
       "      <td>25</td>\n",
       "    </tr>\n",
       "    <tr>\n",
       "      <th>202</th>\n",
       "      <td>134</td>\n",
       "      <td>3012</td>\n",
       "      <td>173</td>\n",
       "      <td>23</td>\n",
       "    </tr>\n",
       "    <tr>\n",
       "      <th>203</th>\n",
       "      <td>106</td>\n",
       "      <td>3217</td>\n",
       "      <td>145</td>\n",
       "      <td>27</td>\n",
       "    </tr>\n",
       "    <tr>\n",
       "      <th>204</th>\n",
       "      <td>114</td>\n",
       "      <td>3062</td>\n",
       "      <td>141</td>\n",
       "      <td>25</td>\n",
       "    </tr>\n",
       "  </tbody>\n",
       "</table>\n",
       "<p>203 rows × 4 columns</p>\n",
       "</div>"
      ],
      "text/plain": [
       "     horsepower  curb-weight  engine-size  highway-mpg\n",
       "0           111         2548          130           27\n",
       "1           111         2548          130           27\n",
       "2           154         2823          152           26\n",
       "3           102         2337          109           30\n",
       "4           115         2824          136           22\n",
       "..          ...          ...          ...          ...\n",
       "200         114         2952          141           28\n",
       "201         160         3049          141           25\n",
       "202         134         3012          173           23\n",
       "203         106         3217          145           27\n",
       "204         114         3062          141           25\n",
       "\n",
       "[203 rows x 4 columns]"
      ]
     },
     "execution_count": 69,
     "metadata": {},
     "output_type": "execute_result"
    }
   ],
   "source": [
    "x=data_df[['horsepower', 'curb-weight', 'engine-size', 'highway-mpg']]\n",
    "X=x.iloc[:,:]\n",
    "Y=data_df['price']\n",
    "X"
   ]
  },
  {
   "cell_type": "code",
   "execution_count": 70,
   "id": "a0686908-f610-4bd6-af60-b070a62cd3e9",
   "metadata": {},
   "outputs": [],
   "source": [
    "df2=pd.DataFrame(X,columns=['horsepower', 'curb-weight', 'engine-size', 'highway-mpg'])\n",
    "df2['price']=pd.Series(Y)"
   ]
  },
  {
   "cell_type": "code",
   "execution_count": 71,
   "id": "43ff781c-1325-4258-bb49-d7763f20eb2a",
   "metadata": {},
   "outputs": [],
   "source": [
    "model=smf.ols('Q(\"price\") ~ Q(\"horsepower\") + Q(\"curb-weight\") + Q(\"engine-size\") + Q(\"highway-mpg\")',data=df2)"
   ]
  },
  {
   "cell_type": "code",
   "execution_count": 72,
   "id": "c8063855-19ff-4a6e-8677-7e1165ac042f",
   "metadata": {},
   "outputs": [
    {
     "data": {
      "text/html": [
       "<table class=\"simpletable\">\n",
       "<caption>OLS Regression Results</caption>\n",
       "<tr>\n",
       "  <th>Dep. Variable:</th>       <td>Q(\"price\")</td>    <th>  R-squared:         </th> <td>   0.776</td>\n",
       "</tr>\n",
       "<tr>\n",
       "  <th>Model:</th>                   <td>OLS</td>       <th>  Adj. R-squared:    </th> <td>   0.771</td>\n",
       "</tr>\n",
       "<tr>\n",
       "  <th>Method:</th>             <td>Least Squares</td>  <th>  F-statistic:       </th> <td>   171.2</td>\n",
       "</tr>\n",
       "<tr>\n",
       "  <th>Date:</th>             <td>Sat, 13 Aug 2022</td> <th>  Prob (F-statistic):</th> <td>4.13e-63</td>\n",
       "</tr>\n",
       "<tr>\n",
       "  <th>Time:</th>                 <td>19:56:01</td>     <th>  Log-Likelihood:    </th> <td> -1957.6</td>\n",
       "</tr>\n",
       "<tr>\n",
       "  <th>No. Observations:</th>      <td>   203</td>      <th>  AIC:               </th> <td>   3925.</td>\n",
       "</tr>\n",
       "<tr>\n",
       "  <th>Df Residuals:</th>          <td>   198</td>      <th>  BIC:               </th> <td>   3942.</td>\n",
       "</tr>\n",
       "<tr>\n",
       "  <th>Df Model:</th>              <td>     4</td>      <th>                     </th>     <td> </td>   \n",
       "</tr>\n",
       "<tr>\n",
       "  <th>Covariance Type:</th>      <td>nonrobust</td>    <th>                     </th>     <td> </td>   \n",
       "</tr>\n",
       "</table>\n",
       "<table class=\"simpletable\">\n",
       "<tr>\n",
       "          <td></td>            <th>coef</th>     <th>std err</th>      <th>t</th>      <th>P>|t|</th>  <th>[0.025</th>    <th>0.975]</th>  \n",
       "</tr>\n",
       "<tr>\n",
       "  <th>Intercept</th>        <td>-9218.0489</td> <td> 4436.913</td> <td>   -2.078</td> <td> 0.039</td> <td> -1.8e+04</td> <td> -468.380</td>\n",
       "</tr>\n",
       "<tr>\n",
       "  <th>Q(\"horsepower\")</th>  <td>   18.1823</td> <td>   13.472</td> <td>    1.350</td> <td> 0.179</td> <td>   -8.384</td> <td>   44.748</td>\n",
       "</tr>\n",
       "<tr>\n",
       "  <th>Q(\"curb-weight\")</th> <td>    3.8011</td> <td>    1.194</td> <td>    3.183</td> <td> 0.002</td> <td>    1.446</td> <td>    6.156</td>\n",
       "</tr>\n",
       "<tr>\n",
       "  <th>Q(\"engine-size\")</th> <td>  101.0721</td> <td>   14.478</td> <td>    6.981</td> <td> 0.000</td> <td>   72.522</td> <td>  129.623</td>\n",
       "</tr>\n",
       "<tr>\n",
       "  <th>Q(\"highway-mpg\")</th> <td>  -65.3384</td> <td>   74.212</td> <td>   -0.880</td> <td> 0.380</td> <td> -211.686</td> <td>   81.010</td>\n",
       "</tr>\n",
       "</table>\n",
       "<table class=\"simpletable\">\n",
       "<tr>\n",
       "  <th>Omnibus:</th>       <td>25.282</td> <th>  Durbin-Watson:     </th> <td>   0.979</td>\n",
       "</tr>\n",
       "<tr>\n",
       "  <th>Prob(Omnibus):</th> <td> 0.000</td> <th>  Jarque-Bera (JB):  </th> <td>  64.960</td>\n",
       "</tr>\n",
       "<tr>\n",
       "  <th>Skew:</th>          <td> 0.512</td> <th>  Prob(JB):          </th> <td>7.84e-15</td>\n",
       "</tr>\n",
       "<tr>\n",
       "  <th>Kurtosis:</th>      <td> 5.575</td> <th>  Cond. No.          </th> <td>4.38e+04</td>\n",
       "</tr>\n",
       "</table><br/><br/>Notes:<br/>[1] Standard Errors assume that the covariance matrix of the errors is correctly specified.<br/>[2] The condition number is large, 4.38e+04. This might indicate that there are<br/>strong multicollinearity or other numerical problems."
      ],
      "text/plain": [
       "<class 'statsmodels.iolib.summary.Summary'>\n",
       "\"\"\"\n",
       "                            OLS Regression Results                            \n",
       "==============================================================================\n",
       "Dep. Variable:             Q(\"price\")   R-squared:                       0.776\n",
       "Model:                            OLS   Adj. R-squared:                  0.771\n",
       "Method:                 Least Squares   F-statistic:                     171.2\n",
       "Date:                Sat, 13 Aug 2022   Prob (F-statistic):           4.13e-63\n",
       "Time:                        19:56:01   Log-Likelihood:                -1957.6\n",
       "No. Observations:                 203   AIC:                             3925.\n",
       "Df Residuals:                     198   BIC:                             3942.\n",
       "Df Model:                           4                                         \n",
       "Covariance Type:            nonrobust                                         \n",
       "====================================================================================\n",
       "                       coef    std err          t      P>|t|      [0.025      0.975]\n",
       "------------------------------------------------------------------------------------\n",
       "Intercept        -9218.0489   4436.913     -2.078      0.039    -1.8e+04    -468.380\n",
       "Q(\"horsepower\")     18.1823     13.472      1.350      0.179      -8.384      44.748\n",
       "Q(\"curb-weight\")     3.8011      1.194      3.183      0.002       1.446       6.156\n",
       "Q(\"engine-size\")   101.0721     14.478      6.981      0.000      72.522     129.623\n",
       "Q(\"highway-mpg\")   -65.3384     74.212     -0.880      0.380    -211.686      81.010\n",
       "==============================================================================\n",
       "Omnibus:                       25.282   Durbin-Watson:                   0.979\n",
       "Prob(Omnibus):                  0.000   Jarque-Bera (JB):               64.960\n",
       "Skew:                           0.512   Prob(JB):                     7.84e-15\n",
       "Kurtosis:                       5.575   Cond. No.                     4.38e+04\n",
       "==============================================================================\n",
       "\n",
       "Notes:\n",
       "[1] Standard Errors assume that the covariance matrix of the errors is correctly specified.\n",
       "[2] The condition number is large, 4.38e+04. This might indicate that there are\n",
       "strong multicollinearity or other numerical problems.\n",
       "\"\"\""
      ]
     },
     "execution_count": 72,
     "metadata": {},
     "output_type": "execute_result"
    }
   ],
   "source": [
    "results_formula = model.fit()\n",
    "results_formula.params\n",
    "results_formula.summary()"
   ]
  },
  {
   "cell_type": "code",
   "execution_count": null,
   "id": "fe854eaf-ed2b-42b1-986a-444eaa7aeba2",
   "metadata": {},
   "outputs": [],
   "source": []
  }
 ],
 "metadata": {
  "kernelspec": {
   "display_name": "Python 3 (ipykernel)",
   "language": "python",
   "name": "python3"
  },
  "language_info": {
   "codemirror_mode": {
    "name": "ipython",
    "version": 3
   },
   "file_extension": ".py",
   "mimetype": "text/x-python",
   "name": "python",
   "nbconvert_exporter": "python",
   "pygments_lexer": "ipython3",
   "version": "3.9.7"
  }
 },
 "nbformat": 4,
 "nbformat_minor": 5
}
